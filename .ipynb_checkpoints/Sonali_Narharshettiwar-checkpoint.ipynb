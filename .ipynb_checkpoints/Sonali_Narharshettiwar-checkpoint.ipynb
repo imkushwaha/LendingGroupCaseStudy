{
 "cells": [
  {
   "cell_type": "markdown",
   "id": "ed5196e2",
   "metadata": {},
   "source": [
    "# Part 1"
   ]
  },
  {
   "cell_type": "markdown",
   "id": "cc00f441",
   "metadata": {},
   "source": [
    "#### Importing necessary libraries"
   ]
  },
  {
   "cell_type": "code",
   "execution_count": 1,
   "id": "a2691af7",
   "metadata": {},
   "outputs": [],
   "source": [
    "import numpy as np\n",
    "import pandas as pd\n",
    "import matplotlib.pyplot as plt\n",
    "import seaborn as sns\n",
    "from datetime import datetime\n",
    "import warnings\n",
    "warnings.filterwarnings('ignore')"
   ]
  },
  {
   "cell_type": "markdown",
   "id": "c633182b",
   "metadata": {},
   "source": [
    "#### Reading of data, with necessary encoding and decoding"
   ]
  },
  {
   "cell_type": "code",
   "execution_count": 2,
   "id": "30a23ce9",
   "metadata": {},
   "outputs": [
    {
     "data": {
      "text/html": [
       "<div>\n",
       "<style scoped>\n",
       "    .dataframe tbody tr th:only-of-type {\n",
       "        vertical-align: middle;\n",
       "    }\n",
       "\n",
       "    .dataframe tbody tr th {\n",
       "        vertical-align: top;\n",
       "    }\n",
       "\n",
       "    .dataframe thead th {\n",
       "        text-align: right;\n",
       "    }\n",
       "</style>\n",
       "<table border=\"1\" class=\"dataframe\">\n",
       "  <thead>\n",
       "    <tr style=\"text-align: right;\">\n",
       "      <th></th>\n",
       "      <th>id</th>\n",
       "      <th>member_id</th>\n",
       "      <th>loan_amnt</th>\n",
       "      <th>funded_amnt</th>\n",
       "      <th>funded_amnt_inv</th>\n",
       "      <th>term</th>\n",
       "      <th>int_rate</th>\n",
       "      <th>installment</th>\n",
       "      <th>grade</th>\n",
       "      <th>sub_grade</th>\n",
       "      <th>...</th>\n",
       "      <th>num_tl_90g_dpd_24m</th>\n",
       "      <th>num_tl_op_past_12m</th>\n",
       "      <th>pct_tl_nvr_dlq</th>\n",
       "      <th>percent_bc_gt_75</th>\n",
       "      <th>pub_rec_bankruptcies</th>\n",
       "      <th>tax_liens</th>\n",
       "      <th>tot_hi_cred_lim</th>\n",
       "      <th>total_bal_ex_mort</th>\n",
       "      <th>total_bc_limit</th>\n",
       "      <th>total_il_high_credit_limit</th>\n",
       "    </tr>\n",
       "  </thead>\n",
       "  <tbody>\n",
       "    <tr>\n",
       "      <th>0</th>\n",
       "      <td>1077501</td>\n",
       "      <td>1296599</td>\n",
       "      <td>5000</td>\n",
       "      <td>5000</td>\n",
       "      <td>4975.0</td>\n",
       "      <td>36 months</td>\n",
       "      <td>10.65%</td>\n",
       "      <td>162.87</td>\n",
       "      <td>B</td>\n",
       "      <td>B2</td>\n",
       "      <td>...</td>\n",
       "      <td>NaN</td>\n",
       "      <td>NaN</td>\n",
       "      <td>NaN</td>\n",
       "      <td>NaN</td>\n",
       "      <td>0.0</td>\n",
       "      <td>0.0</td>\n",
       "      <td>NaN</td>\n",
       "      <td>NaN</td>\n",
       "      <td>NaN</td>\n",
       "      <td>NaN</td>\n",
       "    </tr>\n",
       "    <tr>\n",
       "      <th>1</th>\n",
       "      <td>1077430</td>\n",
       "      <td>1314167</td>\n",
       "      <td>2500</td>\n",
       "      <td>2500</td>\n",
       "      <td>2500.0</td>\n",
       "      <td>60 months</td>\n",
       "      <td>15.27%</td>\n",
       "      <td>59.83</td>\n",
       "      <td>C</td>\n",
       "      <td>C4</td>\n",
       "      <td>...</td>\n",
       "      <td>NaN</td>\n",
       "      <td>NaN</td>\n",
       "      <td>NaN</td>\n",
       "      <td>NaN</td>\n",
       "      <td>0.0</td>\n",
       "      <td>0.0</td>\n",
       "      <td>NaN</td>\n",
       "      <td>NaN</td>\n",
       "      <td>NaN</td>\n",
       "      <td>NaN</td>\n",
       "    </tr>\n",
       "    <tr>\n",
       "      <th>2</th>\n",
       "      <td>1077175</td>\n",
       "      <td>1313524</td>\n",
       "      <td>2400</td>\n",
       "      <td>2400</td>\n",
       "      <td>2400.0</td>\n",
       "      <td>36 months</td>\n",
       "      <td>15.96%</td>\n",
       "      <td>84.33</td>\n",
       "      <td>C</td>\n",
       "      <td>C5</td>\n",
       "      <td>...</td>\n",
       "      <td>NaN</td>\n",
       "      <td>NaN</td>\n",
       "      <td>NaN</td>\n",
       "      <td>NaN</td>\n",
       "      <td>0.0</td>\n",
       "      <td>0.0</td>\n",
       "      <td>NaN</td>\n",
       "      <td>NaN</td>\n",
       "      <td>NaN</td>\n",
       "      <td>NaN</td>\n",
       "    </tr>\n",
       "    <tr>\n",
       "      <th>3</th>\n",
       "      <td>1076863</td>\n",
       "      <td>1277178</td>\n",
       "      <td>10000</td>\n",
       "      <td>10000</td>\n",
       "      <td>10000.0</td>\n",
       "      <td>36 months</td>\n",
       "      <td>13.49%</td>\n",
       "      <td>339.31</td>\n",
       "      <td>C</td>\n",
       "      <td>C1</td>\n",
       "      <td>...</td>\n",
       "      <td>NaN</td>\n",
       "      <td>NaN</td>\n",
       "      <td>NaN</td>\n",
       "      <td>NaN</td>\n",
       "      <td>0.0</td>\n",
       "      <td>0.0</td>\n",
       "      <td>NaN</td>\n",
       "      <td>NaN</td>\n",
       "      <td>NaN</td>\n",
       "      <td>NaN</td>\n",
       "    </tr>\n",
       "    <tr>\n",
       "      <th>4</th>\n",
       "      <td>1075358</td>\n",
       "      <td>1311748</td>\n",
       "      <td>3000</td>\n",
       "      <td>3000</td>\n",
       "      <td>3000.0</td>\n",
       "      <td>60 months</td>\n",
       "      <td>12.69%</td>\n",
       "      <td>67.79</td>\n",
       "      <td>B</td>\n",
       "      <td>B5</td>\n",
       "      <td>...</td>\n",
       "      <td>NaN</td>\n",
       "      <td>NaN</td>\n",
       "      <td>NaN</td>\n",
       "      <td>NaN</td>\n",
       "      <td>0.0</td>\n",
       "      <td>0.0</td>\n",
       "      <td>NaN</td>\n",
       "      <td>NaN</td>\n",
       "      <td>NaN</td>\n",
       "      <td>NaN</td>\n",
       "    </tr>\n",
       "  </tbody>\n",
       "</table>\n",
       "<p>5 rows × 111 columns</p>\n",
       "</div>"
      ],
      "text/plain": [
       "        id  member_id  loan_amnt  funded_amnt  funded_amnt_inv        term  \\\n",
       "0  1077501    1296599       5000         5000           4975.0   36 months   \n",
       "1  1077430    1314167       2500         2500           2500.0   60 months   \n",
       "2  1077175    1313524       2400         2400           2400.0   36 months   \n",
       "3  1076863    1277178      10000        10000          10000.0   36 months   \n",
       "4  1075358    1311748       3000         3000           3000.0   60 months   \n",
       "\n",
       "  int_rate  installment grade sub_grade  ... num_tl_90g_dpd_24m  \\\n",
       "0   10.65%       162.87     B        B2  ...                NaN   \n",
       "1   15.27%        59.83     C        C4  ...                NaN   \n",
       "2   15.96%        84.33     C        C5  ...                NaN   \n",
       "3   13.49%       339.31     C        C1  ...                NaN   \n",
       "4   12.69%        67.79     B        B5  ...                NaN   \n",
       "\n",
       "  num_tl_op_past_12m pct_tl_nvr_dlq  percent_bc_gt_75 pub_rec_bankruptcies  \\\n",
       "0                NaN            NaN               NaN                  0.0   \n",
       "1                NaN            NaN               NaN                  0.0   \n",
       "2                NaN            NaN               NaN                  0.0   \n",
       "3                NaN            NaN               NaN                  0.0   \n",
       "4                NaN            NaN               NaN                  0.0   \n",
       "\n",
       "  tax_liens tot_hi_cred_lim total_bal_ex_mort total_bc_limit  \\\n",
       "0       0.0             NaN               NaN            NaN   \n",
       "1       0.0             NaN               NaN            NaN   \n",
       "2       0.0             NaN               NaN            NaN   \n",
       "3       0.0             NaN               NaN            NaN   \n",
       "4       0.0             NaN               NaN            NaN   \n",
       "\n",
       "  total_il_high_credit_limit  \n",
       "0                        NaN  \n",
       "1                        NaN  \n",
       "2                        NaN  \n",
       "3                        NaN  \n",
       "4                        NaN  \n",
       "\n",
       "[5 rows x 111 columns]"
      ]
     },
     "execution_count": 2,
     "metadata": {},
     "output_type": "execute_result"
    }
   ],
   "source": [
    "loan=pd.read_csv('loan.csv',index_col=False,low_memory=False, date_parser=None)\n",
    "loan.head()"
   ]
  },
  {
   "cell_type": "markdown",
   "id": "245b6b9b",
   "metadata": {},
   "source": [
    "### Exploring dataset"
   ]
  },
  {
   "cell_type": "code",
   "execution_count": 3,
   "id": "267fcf16",
   "metadata": {},
   "outputs": [
    {
     "name": "stdout",
     "output_type": "stream",
     "text": [
      "<class 'pandas.core.frame.DataFrame'>\n",
      "RangeIndex: 39717 entries, 0 to 39716\n",
      "Columns: 111 entries, id to total_il_high_credit_limit\n",
      "dtypes: float64(74), int64(13), object(24)\n",
      "memory usage: 33.6+ MB\n"
     ]
    }
   ],
   "source": [
    "loan.info()"
   ]
  },
  {
   "cell_type": "code",
   "execution_count": 4,
   "id": "c57aeb61",
   "metadata": {},
   "outputs": [
    {
     "data": {
      "text/html": [
       "<div>\n",
       "<style scoped>\n",
       "    .dataframe tbody tr th:only-of-type {\n",
       "        vertical-align: middle;\n",
       "    }\n",
       "\n",
       "    .dataframe tbody tr th {\n",
       "        vertical-align: top;\n",
       "    }\n",
       "\n",
       "    .dataframe thead th {\n",
       "        text-align: right;\n",
       "    }\n",
       "</style>\n",
       "<table border=\"1\" class=\"dataframe\">\n",
       "  <thead>\n",
       "    <tr style=\"text-align: right;\">\n",
       "      <th></th>\n",
       "      <th>id</th>\n",
       "      <th>member_id</th>\n",
       "      <th>loan_amnt</th>\n",
       "      <th>funded_amnt</th>\n",
       "      <th>funded_amnt_inv</th>\n",
       "      <th>installment</th>\n",
       "      <th>annual_inc</th>\n",
       "      <th>dti</th>\n",
       "      <th>delinq_2yrs</th>\n",
       "      <th>inq_last_6mths</th>\n",
       "      <th>...</th>\n",
       "      <th>num_tl_90g_dpd_24m</th>\n",
       "      <th>num_tl_op_past_12m</th>\n",
       "      <th>pct_tl_nvr_dlq</th>\n",
       "      <th>percent_bc_gt_75</th>\n",
       "      <th>pub_rec_bankruptcies</th>\n",
       "      <th>tax_liens</th>\n",
       "      <th>tot_hi_cred_lim</th>\n",
       "      <th>total_bal_ex_mort</th>\n",
       "      <th>total_bc_limit</th>\n",
       "      <th>total_il_high_credit_limit</th>\n",
       "    </tr>\n",
       "  </thead>\n",
       "  <tbody>\n",
       "    <tr>\n",
       "      <th>count</th>\n",
       "      <td>3.971700e+04</td>\n",
       "      <td>3.971700e+04</td>\n",
       "      <td>39717.000000</td>\n",
       "      <td>39717.000000</td>\n",
       "      <td>39717.000000</td>\n",
       "      <td>39717.000000</td>\n",
       "      <td>3.971700e+04</td>\n",
       "      <td>39717.000000</td>\n",
       "      <td>39717.000000</td>\n",
       "      <td>39717.000000</td>\n",
       "      <td>...</td>\n",
       "      <td>0.0</td>\n",
       "      <td>0.0</td>\n",
       "      <td>0.0</td>\n",
       "      <td>0.0</td>\n",
       "      <td>39020.000000</td>\n",
       "      <td>39678.0</td>\n",
       "      <td>0.0</td>\n",
       "      <td>0.0</td>\n",
       "      <td>0.0</td>\n",
       "      <td>0.0</td>\n",
       "    </tr>\n",
       "    <tr>\n",
       "      <th>mean</th>\n",
       "      <td>6.831319e+05</td>\n",
       "      <td>8.504636e+05</td>\n",
       "      <td>11219.443815</td>\n",
       "      <td>10947.713196</td>\n",
       "      <td>10397.448868</td>\n",
       "      <td>324.561922</td>\n",
       "      <td>6.896893e+04</td>\n",
       "      <td>13.315130</td>\n",
       "      <td>0.146512</td>\n",
       "      <td>0.869200</td>\n",
       "      <td>...</td>\n",
       "      <td>NaN</td>\n",
       "      <td>NaN</td>\n",
       "      <td>NaN</td>\n",
       "      <td>NaN</td>\n",
       "      <td>0.043260</td>\n",
       "      <td>0.0</td>\n",
       "      <td>NaN</td>\n",
       "      <td>NaN</td>\n",
       "      <td>NaN</td>\n",
       "      <td>NaN</td>\n",
       "    </tr>\n",
       "    <tr>\n",
       "      <th>std</th>\n",
       "      <td>2.106941e+05</td>\n",
       "      <td>2.656783e+05</td>\n",
       "      <td>7456.670694</td>\n",
       "      <td>7187.238670</td>\n",
       "      <td>7128.450439</td>\n",
       "      <td>208.874874</td>\n",
       "      <td>6.379377e+04</td>\n",
       "      <td>6.678594</td>\n",
       "      <td>0.491812</td>\n",
       "      <td>1.070219</td>\n",
       "      <td>...</td>\n",
       "      <td>NaN</td>\n",
       "      <td>NaN</td>\n",
       "      <td>NaN</td>\n",
       "      <td>NaN</td>\n",
       "      <td>0.204324</td>\n",
       "      <td>0.0</td>\n",
       "      <td>NaN</td>\n",
       "      <td>NaN</td>\n",
       "      <td>NaN</td>\n",
       "      <td>NaN</td>\n",
       "    </tr>\n",
       "    <tr>\n",
       "      <th>min</th>\n",
       "      <td>5.473400e+04</td>\n",
       "      <td>7.069900e+04</td>\n",
       "      <td>500.000000</td>\n",
       "      <td>500.000000</td>\n",
       "      <td>0.000000</td>\n",
       "      <td>15.690000</td>\n",
       "      <td>4.000000e+03</td>\n",
       "      <td>0.000000</td>\n",
       "      <td>0.000000</td>\n",
       "      <td>0.000000</td>\n",
       "      <td>...</td>\n",
       "      <td>NaN</td>\n",
       "      <td>NaN</td>\n",
       "      <td>NaN</td>\n",
       "      <td>NaN</td>\n",
       "      <td>0.000000</td>\n",
       "      <td>0.0</td>\n",
       "      <td>NaN</td>\n",
       "      <td>NaN</td>\n",
       "      <td>NaN</td>\n",
       "      <td>NaN</td>\n",
       "    </tr>\n",
       "    <tr>\n",
       "      <th>25%</th>\n",
       "      <td>5.162210e+05</td>\n",
       "      <td>6.667800e+05</td>\n",
       "      <td>5500.000000</td>\n",
       "      <td>5400.000000</td>\n",
       "      <td>5000.000000</td>\n",
       "      <td>167.020000</td>\n",
       "      <td>4.040400e+04</td>\n",
       "      <td>8.170000</td>\n",
       "      <td>0.000000</td>\n",
       "      <td>0.000000</td>\n",
       "      <td>...</td>\n",
       "      <td>NaN</td>\n",
       "      <td>NaN</td>\n",
       "      <td>NaN</td>\n",
       "      <td>NaN</td>\n",
       "      <td>0.000000</td>\n",
       "      <td>0.0</td>\n",
       "      <td>NaN</td>\n",
       "      <td>NaN</td>\n",
       "      <td>NaN</td>\n",
       "      <td>NaN</td>\n",
       "    </tr>\n",
       "    <tr>\n",
       "      <th>50%</th>\n",
       "      <td>6.656650e+05</td>\n",
       "      <td>8.508120e+05</td>\n",
       "      <td>10000.000000</td>\n",
       "      <td>9600.000000</td>\n",
       "      <td>8975.000000</td>\n",
       "      <td>280.220000</td>\n",
       "      <td>5.900000e+04</td>\n",
       "      <td>13.400000</td>\n",
       "      <td>0.000000</td>\n",
       "      <td>1.000000</td>\n",
       "      <td>...</td>\n",
       "      <td>NaN</td>\n",
       "      <td>NaN</td>\n",
       "      <td>NaN</td>\n",
       "      <td>NaN</td>\n",
       "      <td>0.000000</td>\n",
       "      <td>0.0</td>\n",
       "      <td>NaN</td>\n",
       "      <td>NaN</td>\n",
       "      <td>NaN</td>\n",
       "      <td>NaN</td>\n",
       "    </tr>\n",
       "    <tr>\n",
       "      <th>75%</th>\n",
       "      <td>8.377550e+05</td>\n",
       "      <td>1.047339e+06</td>\n",
       "      <td>15000.000000</td>\n",
       "      <td>15000.000000</td>\n",
       "      <td>14400.000000</td>\n",
       "      <td>430.780000</td>\n",
       "      <td>8.230000e+04</td>\n",
       "      <td>18.600000</td>\n",
       "      <td>0.000000</td>\n",
       "      <td>1.000000</td>\n",
       "      <td>...</td>\n",
       "      <td>NaN</td>\n",
       "      <td>NaN</td>\n",
       "      <td>NaN</td>\n",
       "      <td>NaN</td>\n",
       "      <td>0.000000</td>\n",
       "      <td>0.0</td>\n",
       "      <td>NaN</td>\n",
       "      <td>NaN</td>\n",
       "      <td>NaN</td>\n",
       "      <td>NaN</td>\n",
       "    </tr>\n",
       "    <tr>\n",
       "      <th>max</th>\n",
       "      <td>1.077501e+06</td>\n",
       "      <td>1.314167e+06</td>\n",
       "      <td>35000.000000</td>\n",
       "      <td>35000.000000</td>\n",
       "      <td>35000.000000</td>\n",
       "      <td>1305.190000</td>\n",
       "      <td>6.000000e+06</td>\n",
       "      <td>29.990000</td>\n",
       "      <td>11.000000</td>\n",
       "      <td>8.000000</td>\n",
       "      <td>...</td>\n",
       "      <td>NaN</td>\n",
       "      <td>NaN</td>\n",
       "      <td>NaN</td>\n",
       "      <td>NaN</td>\n",
       "      <td>2.000000</td>\n",
       "      <td>0.0</td>\n",
       "      <td>NaN</td>\n",
       "      <td>NaN</td>\n",
       "      <td>NaN</td>\n",
       "      <td>NaN</td>\n",
       "    </tr>\n",
       "  </tbody>\n",
       "</table>\n",
       "<p>8 rows × 87 columns</p>\n",
       "</div>"
      ],
      "text/plain": [
       "                 id     member_id     loan_amnt   funded_amnt  \\\n",
       "count  3.971700e+04  3.971700e+04  39717.000000  39717.000000   \n",
       "mean   6.831319e+05  8.504636e+05  11219.443815  10947.713196   \n",
       "std    2.106941e+05  2.656783e+05   7456.670694   7187.238670   \n",
       "min    5.473400e+04  7.069900e+04    500.000000    500.000000   \n",
       "25%    5.162210e+05  6.667800e+05   5500.000000   5400.000000   \n",
       "50%    6.656650e+05  8.508120e+05  10000.000000   9600.000000   \n",
       "75%    8.377550e+05  1.047339e+06  15000.000000  15000.000000   \n",
       "max    1.077501e+06  1.314167e+06  35000.000000  35000.000000   \n",
       "\n",
       "       funded_amnt_inv   installment    annual_inc           dti  \\\n",
       "count     39717.000000  39717.000000  3.971700e+04  39717.000000   \n",
       "mean      10397.448868    324.561922  6.896893e+04     13.315130   \n",
       "std        7128.450439    208.874874  6.379377e+04      6.678594   \n",
       "min           0.000000     15.690000  4.000000e+03      0.000000   \n",
       "25%        5000.000000    167.020000  4.040400e+04      8.170000   \n",
       "50%        8975.000000    280.220000  5.900000e+04     13.400000   \n",
       "75%       14400.000000    430.780000  8.230000e+04     18.600000   \n",
       "max       35000.000000   1305.190000  6.000000e+06     29.990000   \n",
       "\n",
       "        delinq_2yrs  inq_last_6mths  ...  num_tl_90g_dpd_24m  \\\n",
       "count  39717.000000    39717.000000  ...                 0.0   \n",
       "mean       0.146512        0.869200  ...                 NaN   \n",
       "std        0.491812        1.070219  ...                 NaN   \n",
       "min        0.000000        0.000000  ...                 NaN   \n",
       "25%        0.000000        0.000000  ...                 NaN   \n",
       "50%        0.000000        1.000000  ...                 NaN   \n",
       "75%        0.000000        1.000000  ...                 NaN   \n",
       "max       11.000000        8.000000  ...                 NaN   \n",
       "\n",
       "       num_tl_op_past_12m  pct_tl_nvr_dlq  percent_bc_gt_75  \\\n",
       "count                 0.0             0.0               0.0   \n",
       "mean                  NaN             NaN               NaN   \n",
       "std                   NaN             NaN               NaN   \n",
       "min                   NaN             NaN               NaN   \n",
       "25%                   NaN             NaN               NaN   \n",
       "50%                   NaN             NaN               NaN   \n",
       "75%                   NaN             NaN               NaN   \n",
       "max                   NaN             NaN               NaN   \n",
       "\n",
       "       pub_rec_bankruptcies  tax_liens  tot_hi_cred_lim  total_bal_ex_mort  \\\n",
       "count          39020.000000    39678.0              0.0                0.0   \n",
       "mean               0.043260        0.0              NaN                NaN   \n",
       "std                0.204324        0.0              NaN                NaN   \n",
       "min                0.000000        0.0              NaN                NaN   \n",
       "25%                0.000000        0.0              NaN                NaN   \n",
       "50%                0.000000        0.0              NaN                NaN   \n",
       "75%                0.000000        0.0              NaN                NaN   \n",
       "max                2.000000        0.0              NaN                NaN   \n",
       "\n",
       "       total_bc_limit  total_il_high_credit_limit  \n",
       "count             0.0                         0.0  \n",
       "mean              NaN                         NaN  \n",
       "std               NaN                         NaN  \n",
       "min               NaN                         NaN  \n",
       "25%               NaN                         NaN  \n",
       "50%               NaN                         NaN  \n",
       "75%               NaN                         NaN  \n",
       "max               NaN                         NaN  \n",
       "\n",
       "[8 rows x 87 columns]"
      ]
     },
     "execution_count": 4,
     "metadata": {},
     "output_type": "execute_result"
    }
   ],
   "source": [
    "loan.describe()"
   ]
  },
  {
   "cell_type": "code",
   "execution_count": 5,
   "id": "0577a409",
   "metadata": {},
   "outputs": [
    {
     "data": {
      "text/plain": [
       "(39717, 111)"
      ]
     },
     "execution_count": 5,
     "metadata": {},
     "output_type": "execute_result"
    }
   ],
   "source": [
    "loan.shape"
   ]
  },
  {
   "cell_type": "markdown",
   "id": "695bcce7",
   "metadata": {},
   "source": [
    "# Part 2"
   ]
  },
  {
   "cell_type": "markdown",
   "id": "ddc0b006",
   "metadata": {},
   "source": [
    "#### Checking for null values"
   ]
  },
  {
   "cell_type": "code",
   "execution_count": 6,
   "id": "99ae97cf",
   "metadata": {},
   "outputs": [
    {
     "data": {
      "text/plain": [
       "emp_title                       6.19\n",
       "emp_length                      2.71\n",
       "desc                           32.58\n",
       "title                           0.03\n",
       "mths_since_last_delinq         64.66\n",
       "                               ...  \n",
       "tax_liens                       0.10\n",
       "tot_hi_cred_lim               100.00\n",
       "total_bal_ex_mort             100.00\n",
       "total_bc_limit                100.00\n",
       "total_il_high_credit_limit    100.00\n",
       "Length: 68, dtype: float64"
      ]
     },
     "execution_count": 6,
     "metadata": {},
     "output_type": "execute_result"
    }
   ],
   "source": [
    "null_values=round(100*(loan.isnull().sum()/len(loan.index)), 2)\n",
    "null_values.loc[null_values>0]"
   ]
  },
  {
   "cell_type": "markdown",
   "id": "d5377775",
   "metadata": {},
   "source": [
    "#### Checking for columns having null values greater than 50%"
   ]
  },
  {
   "cell_type": "code",
   "execution_count": 7,
   "id": "a1ff1544",
   "metadata": {},
   "outputs": [
    {
     "data": {
      "text/plain": [
       "['mths_since_last_delinq',\n",
       " 'mths_since_last_record',\n",
       " 'next_pymnt_d',\n",
       " 'mths_since_last_major_derog',\n",
       " 'annual_inc_joint',\n",
       " 'dti_joint',\n",
       " 'verification_status_joint',\n",
       " 'tot_coll_amt',\n",
       " 'tot_cur_bal',\n",
       " 'open_acc_6m',\n",
       " 'open_il_6m',\n",
       " 'open_il_12m',\n",
       " 'open_il_24m',\n",
       " 'mths_since_rcnt_il',\n",
       " 'total_bal_il',\n",
       " 'il_util',\n",
       " 'open_rv_12m',\n",
       " 'open_rv_24m',\n",
       " 'max_bal_bc',\n",
       " 'all_util',\n",
       " 'total_rev_hi_lim',\n",
       " 'inq_fi',\n",
       " 'total_cu_tl',\n",
       " 'inq_last_12m',\n",
       " 'acc_open_past_24mths',\n",
       " 'avg_cur_bal',\n",
       " 'bc_open_to_buy',\n",
       " 'bc_util',\n",
       " 'mo_sin_old_il_acct',\n",
       " 'mo_sin_old_rev_tl_op',\n",
       " 'mo_sin_rcnt_rev_tl_op',\n",
       " 'mo_sin_rcnt_tl',\n",
       " 'mort_acc',\n",
       " 'mths_since_recent_bc',\n",
       " 'mths_since_recent_bc_dlq',\n",
       " 'mths_since_recent_inq',\n",
       " 'mths_since_recent_revol_delinq',\n",
       " 'num_accts_ever_120_pd',\n",
       " 'num_actv_bc_tl',\n",
       " 'num_actv_rev_tl',\n",
       " 'num_bc_sats',\n",
       " 'num_bc_tl',\n",
       " 'num_il_tl',\n",
       " 'num_op_rev_tl',\n",
       " 'num_rev_accts',\n",
       " 'num_rev_tl_bal_gt_0',\n",
       " 'num_sats',\n",
       " 'num_tl_120dpd_2m',\n",
       " 'num_tl_30dpd',\n",
       " 'num_tl_90g_dpd_24m',\n",
       " 'num_tl_op_past_12m',\n",
       " 'pct_tl_nvr_dlq',\n",
       " 'percent_bc_gt_75',\n",
       " 'tot_hi_cred_lim',\n",
       " 'total_bal_ex_mort',\n",
       " 'total_bc_limit',\n",
       " 'total_il_high_credit_limit']"
      ]
     },
     "execution_count": 7,
     "metadata": {},
     "output_type": "execute_result"
    }
   ],
   "source": [
    "null_values_50=list(null_values[null_values>50].index)\n",
    "null_values_50"
   ]
  },
  {
   "cell_type": "markdown",
   "id": "6c286ade",
   "metadata": {},
   "source": [
    "#### Dropping columns having null values greater than 50%"
   ]
  },
  {
   "cell_type": "code",
   "execution_count": 8,
   "id": "b8109b1a",
   "metadata": {},
   "outputs": [
    {
     "data": {
      "text/plain": [
       "(39717, 54)"
      ]
     },
     "execution_count": 8,
     "metadata": {},
     "output_type": "execute_result"
    }
   ],
   "source": [
    "loan = loan.drop(null_values_50,axis=1)\n",
    "loan.shape"
   ]
  },
  {
   "cell_type": "markdown",
   "id": "d47e275c",
   "metadata": {},
   "source": [
    "#### Filtering data for columns having null values"
   ]
  },
  {
   "cell_type": "code",
   "execution_count": 9,
   "id": "0dc6ff08",
   "metadata": {},
   "outputs": [
    {
     "data": {
      "text/plain": [
       "emp_title                      6.19\n",
       "emp_length                     2.71\n",
       "desc                          32.58\n",
       "title                          0.03\n",
       "revol_util                     0.13\n",
       "last_pymnt_d                   0.18\n",
       "last_credit_pull_d             0.01\n",
       "collections_12_mths_ex_med     0.14\n",
       "chargeoff_within_12_mths       0.14\n",
       "pub_rec_bankruptcies           1.75\n",
       "tax_liens                      0.10\n",
       "dtype: float64"
      ]
     },
     "execution_count": 9,
     "metadata": {},
     "output_type": "execute_result"
    }
   ],
   "source": [
    "null_values_not_0 = round(100*(loan.isnull().sum()/len(loan.id)), 2)\n",
    "null_values_not_0[null_values_not_0 != 0]"
   ]
  },
  {
   "cell_type": "markdown",
   "id": "2540aa24",
   "metadata": {},
   "source": [
    "#### Dropping 'desc'  column as the required short information is present in purpose column"
   ]
  },
  {
   "cell_type": "code",
   "execution_count": 10,
   "id": "5366930c",
   "metadata": {},
   "outputs": [
    {
     "data": {
      "text/plain": [
       "(39717, 53)"
      ]
     },
     "execution_count": 10,
     "metadata": {},
     "output_type": "execute_result"
    }
   ],
   "source": [
    "loan.drop('desc',axis=1,inplace=True)\n",
    "loan.shape"
   ]
  },
  {
   "cell_type": "markdown",
   "id": "8cf09d8b",
   "metadata": {},
   "source": [
    "#### Checking the unique values in columns with null values"
   ]
  },
  {
   "cell_type": "code",
   "execution_count": 11,
   "id": "f326f17c",
   "metadata": {
    "scrolled": true
   },
   "outputs": [
    {
     "name": "stdout",
     "output_type": "stream",
     "text": [
      "Number of unique values of employee title:  28821\n",
      "Number of unique values of employee length:  12\n",
      "Number of unique values of title:  19616\n",
      "Number of unique values of revol util:  1090\n",
      "Number of unique values in last payment received:  102\n",
      "Number of unique values in last_credit_pull_d:  107\n",
      "Number of unique values in collections_12_mths_ex_med:  2\n",
      "Number of unique values in chargeoff_within_12_mths:  2\n",
      "Number of unique values in pub_rec_bankruptcies:  4\n",
      "Number of unique values in tax_liens:  2\n"
     ]
    }
   ],
   "source": [
    "print(\"Number of unique values of employee title: \",len(loan.emp_title.unique()))\n",
    "print(\"Number of unique values of employee length: \",len(loan.emp_length.unique()))\n",
    "print(\"Number of unique values of title: \",len(loan.title.unique()))\n",
    "print(\"Number of unique values of revol util: \",len(loan.revol_util.unique()))\n",
    "print(\"Number of unique values in last payment received: \",len(loan.last_pymnt_d.unique()))\n",
    "print(\"Number of unique values in last_credit_pull_d: \",len(loan.last_credit_pull_d.unique()))\n",
    "print(\"Number of unique values in collections_12_mths_ex_med: \",len(loan.collections_12_mths_ex_med.unique()))\n",
    "print(\"Number of unique values in chargeoff_within_12_mths: \",len(loan.chargeoff_within_12_mths.unique()))\n",
    "print(\"Number of unique values in pub_rec_bankruptcies: \",len(loan.pub_rec_bankruptcies.unique()))\n",
    "print(\"Number of unique values in tax_liens: \",len(loan.tax_liens.unique()))"
   ]
  },
  {
   "cell_type": "markdown",
   "id": "4fb51dcc",
   "metadata": {},
   "source": [
    "Columns like emp_length, collections_12_mths_ex_med, chargeoff_within_12_mths, pub_rec_bankruptcies and tax_liens have very less unique values, which state that they are categorical with values belonging to a range."
   ]
  },
  {
   "cell_type": "code",
   "execution_count": 12,
   "id": "e26ec61a",
   "metadata": {},
   "outputs": [
    {
     "data": {
      "text/plain": [
       "array(['10+ years', '< 1 year', '1 year', '3 years', '8 years', '9 years',\n",
       "       '4 years', '5 years', '6 years', '2 years', '7 years', nan],\n",
       "      dtype=object)"
      ]
     },
     "execution_count": 12,
     "metadata": {},
     "output_type": "execute_result"
    }
   ],
   "source": [
    "loan.emp_length.unique()"
   ]
  },
  {
   "cell_type": "code",
   "execution_count": 13,
   "id": "1f2fb769",
   "metadata": {},
   "outputs": [
    {
     "data": {
      "text/plain": [
       "array([ 0., nan])"
      ]
     },
     "execution_count": 13,
     "metadata": {},
     "output_type": "execute_result"
    }
   ],
   "source": [
    "loan.collections_12_mths_ex_med.unique()"
   ]
  },
  {
   "cell_type": "code",
   "execution_count": 14,
   "id": "bcdf9119",
   "metadata": {},
   "outputs": [
    {
     "data": {
      "text/plain": [
       "array([ 0., nan])"
      ]
     },
     "execution_count": 14,
     "metadata": {},
     "output_type": "execute_result"
    }
   ],
   "source": [
    "loan.chargeoff_within_12_mths.unique()"
   ]
  },
  {
   "cell_type": "code",
   "execution_count": 15,
   "id": "9fdb55df",
   "metadata": {},
   "outputs": [
    {
     "data": {
      "text/plain": [
       "array([ 0.,  1.,  2., nan])"
      ]
     },
     "execution_count": 15,
     "metadata": {},
     "output_type": "execute_result"
    }
   ],
   "source": [
    "loan.pub_rec_bankruptcies.unique()"
   ]
  },
  {
   "cell_type": "code",
   "execution_count": 16,
   "id": "00ce9771",
   "metadata": {},
   "outputs": [
    {
     "data": {
      "text/plain": [
       "array([ 0., nan])"
      ]
     },
     "execution_count": 16,
     "metadata": {},
     "output_type": "execute_result"
    }
   ],
   "source": [
    "loan.tax_liens.unique()"
   ]
  },
  {
   "cell_type": "markdown",
   "id": "1048031f",
   "metadata": {},
   "source": [
    "The unique values of columns collections_12_mths_ex_med, chargeoff_within_12_mths and tax_liens are 0 and nan, which state they are not of any significant value. So these columns can be dropped."
   ]
  },
  {
   "cell_type": "code",
   "execution_count": 17,
   "id": "3ce3b47a",
   "metadata": {},
   "outputs": [
    {
     "data": {
      "text/plain": [
       "(39717, 50)"
      ]
     },
     "execution_count": 17,
     "metadata": {},
     "output_type": "execute_result"
    }
   ],
   "source": [
    "loan.drop(columns=['collections_12_mths_ex_med','chargeoff_within_12_mths','tax_liens'],axis=1,inplace=True)\n",
    "loan.shape"
   ]
  },
  {
   "cell_type": "markdown",
   "id": "e4bba5a3",
   "metadata": {},
   "source": [
    "#### Checking for null values in remaining columns"
   ]
  },
  {
   "cell_type": "code",
   "execution_count": 18,
   "id": "9168884c",
   "metadata": {},
   "outputs": [
    {
     "data": {
      "text/plain": [
       "emp_title               6.19\n",
       "emp_length              2.71\n",
       "title                   0.03\n",
       "revol_util              0.13\n",
       "last_pymnt_d            0.18\n",
       "last_credit_pull_d      0.01\n",
       "pub_rec_bankruptcies    1.75\n",
       "dtype: float64"
      ]
     },
     "execution_count": 18,
     "metadata": {},
     "output_type": "execute_result"
    }
   ],
   "source": [
    "null_values=round(100*(loan.isnull().sum()/len(loan.index)), 2)\n",
    "null_values.loc[null_values>0]"
   ]
  },
  {
   "cell_type": "markdown",
   "id": "155a4b51",
   "metadata": {},
   "source": [
    "#### Unique values in pub_rec_bankruptcies column"
   ]
  },
  {
   "cell_type": "code",
   "execution_count": 19,
   "id": "11d38574",
   "metadata": {},
   "outputs": [
    {
     "data": {
      "text/plain": [
       "array([ 0.,  1.,  2., nan])"
      ]
     },
     "execution_count": 19,
     "metadata": {},
     "output_type": "execute_result"
    }
   ],
   "source": [
    "loan.pub_rec_bankruptcies.unique()"
   ]
  },
  {
   "cell_type": "markdown",
   "id": "795e2e84",
   "metadata": {},
   "source": [
    "The records where pub_rec_bankruptcies is null cannot be imputed, as we cannot guess the number of bankruptcies done be a person. So such records need to be dropped."
   ]
  },
  {
   "cell_type": "markdown",
   "id": "ca526a58",
   "metadata": {},
   "source": [
    "#### Dropping records where pub_rec_bankruptcies is null"
   ]
  },
  {
   "cell_type": "code",
   "execution_count": 20,
   "id": "e8bdbe7a",
   "metadata": {},
   "outputs": [],
   "source": [
    "loan=loan[~loan.pub_rec_bankruptcies.isnull()]"
   ]
  },
  {
   "cell_type": "markdown",
   "id": "199b69a1",
   "metadata": {},
   "source": [
    "#### Checking for null values in remaining columns"
   ]
  },
  {
   "cell_type": "code",
   "execution_count": 21,
   "id": "a8f48cdf",
   "metadata": {},
   "outputs": [
    {
     "data": {
      "text/plain": [
       "emp_title       6.19\n",
       "emp_length      2.75\n",
       "title           0.03\n",
       "revol_util      0.13\n",
       "last_pymnt_d    0.18\n",
       "dtype: float64"
      ]
     },
     "execution_count": 21,
     "metadata": {},
     "output_type": "execute_result"
    }
   ],
   "source": [
    "missing_values = round(100*(loan.isnull().sum()/len(loan.id)), 2) \n",
    "missing_values[missing_values != 0]"
   ]
  },
  {
   "cell_type": "markdown",
   "id": "85e456c1",
   "metadata": {},
   "source": [
    "#### Dropping records where emp_title and emp_length is null"
   ]
  },
  {
   "cell_type": "code",
   "execution_count": 22,
   "id": "86ecc43e",
   "metadata": {},
   "outputs": [
    {
     "data": {
      "text/plain": [
       "(36548, 50)"
      ]
     },
     "execution_count": 22,
     "metadata": {},
     "output_type": "execute_result"
    }
   ],
   "source": [
    "loan=loan[~loan.emp_title.isnull()]\n",
    "loan=loan[~loan.emp_length.isnull()]\n",
    "loan.shape"
   ]
  },
  {
   "cell_type": "markdown",
   "id": "6e99b58d",
   "metadata": {},
   "source": [
    "The records where emp_title and emp_length is null cannot be imputed, as they provide demographic information about a person. So such records need to be dropped."
   ]
  },
  {
   "cell_type": "markdown",
   "id": "9d2a5325",
   "metadata": {},
   "source": [
    "#### Checking for null values in remaining columns"
   ]
  },
  {
   "cell_type": "code",
   "execution_count": 23,
   "id": "33b51841",
   "metadata": {},
   "outputs": [
    {
     "data": {
      "text/plain": [
       "title           0.02\n",
       "revol_util      0.13\n",
       "last_pymnt_d    0.18\n",
       "dtype: float64"
      ]
     },
     "execution_count": 23,
     "metadata": {},
     "output_type": "execute_result"
    }
   ],
   "source": [
    "missing_values = round(100*(loan.isnull().sum()/len(loan.id)), 2) \n",
    "missing_values[missing_values != 0]"
   ]
  },
  {
   "cell_type": "markdown",
   "id": "ceff72cf",
   "metadata": {},
   "source": [
    "#### Dropping records where title, revol_util, last_pymnt_d is null"
   ]
  },
  {
   "cell_type": "code",
   "execution_count": 24,
   "id": "eed557a1",
   "metadata": {},
   "outputs": [
    {
     "data": {
      "text/plain": [
       "(36433, 50)"
      ]
     },
     "execution_count": 24,
     "metadata": {},
     "output_type": "execute_result"
    }
   ],
   "source": [
    "loan=loan[~loan.title.isnull()]\n",
    "loan=loan[~loan.revol_util.isnull()]\n",
    "loan=loan[~loan.last_pymnt_d.isnull()]\n",
    "loan.shape"
   ]
  },
  {
   "cell_type": "markdown",
   "id": "a3388726",
   "metadata": {},
   "source": [
    "The columns title, revol_util and last_pymnt_d has very low % of null values. So we can drop these records,"
   ]
  },
  {
   "cell_type": "markdown",
   "id": "4ba96461",
   "metadata": {},
   "source": [
    "#### Checking for null values in remaining columns"
   ]
  },
  {
   "cell_type": "code",
   "execution_count": 25,
   "id": "f959bb9f",
   "metadata": {},
   "outputs": [
    {
     "data": {
      "text/plain": [
       "Series([], dtype: float64)"
      ]
     },
     "execution_count": 25,
     "metadata": {},
     "output_type": "execute_result"
    }
   ],
   "source": [
    "missing_values = round(100*(loan.isnull().sum()/len(loan.id)), 2) \n",
    "missing_values[missing_values != 0]"
   ]
  },
  {
   "cell_type": "code",
   "execution_count": 26,
   "id": "bdd43cd5",
   "metadata": {},
   "outputs": [
    {
     "data": {
      "text/html": [
       "<div>\n",
       "<style scoped>\n",
       "    .dataframe tbody tr th:only-of-type {\n",
       "        vertical-align: middle;\n",
       "    }\n",
       "\n",
       "    .dataframe tbody tr th {\n",
       "        vertical-align: top;\n",
       "    }\n",
       "\n",
       "    .dataframe thead th {\n",
       "        text-align: right;\n",
       "    }\n",
       "</style>\n",
       "<table border=\"1\" class=\"dataframe\">\n",
       "  <thead>\n",
       "    <tr style=\"text-align: right;\">\n",
       "      <th></th>\n",
       "      <th>id</th>\n",
       "      <th>member_id</th>\n",
       "      <th>loan_amnt</th>\n",
       "      <th>funded_amnt</th>\n",
       "      <th>funded_amnt_inv</th>\n",
       "      <th>term</th>\n",
       "      <th>int_rate</th>\n",
       "      <th>installment</th>\n",
       "      <th>grade</th>\n",
       "      <th>sub_grade</th>\n",
       "      <th>...</th>\n",
       "      <th>recoveries</th>\n",
       "      <th>collection_recovery_fee</th>\n",
       "      <th>last_pymnt_d</th>\n",
       "      <th>last_pymnt_amnt</th>\n",
       "      <th>last_credit_pull_d</th>\n",
       "      <th>policy_code</th>\n",
       "      <th>application_type</th>\n",
       "      <th>acc_now_delinq</th>\n",
       "      <th>delinq_amnt</th>\n",
       "      <th>pub_rec_bankruptcies</th>\n",
       "    </tr>\n",
       "  </thead>\n",
       "  <tbody>\n",
       "    <tr>\n",
       "      <th>1</th>\n",
       "      <td>1077430</td>\n",
       "      <td>1314167</td>\n",
       "      <td>2500</td>\n",
       "      <td>2500</td>\n",
       "      <td>2500.0</td>\n",
       "      <td>60 months</td>\n",
       "      <td>15.27%</td>\n",
       "      <td>59.83</td>\n",
       "      <td>C</td>\n",
       "      <td>C4</td>\n",
       "      <td>...</td>\n",
       "      <td>117.08</td>\n",
       "      <td>1.11</td>\n",
       "      <td>Apr-13</td>\n",
       "      <td>119.66</td>\n",
       "      <td>Sep-13</td>\n",
       "      <td>1</td>\n",
       "      <td>INDIVIDUAL</td>\n",
       "      <td>0</td>\n",
       "      <td>0</td>\n",
       "      <td>0.0</td>\n",
       "    </tr>\n",
       "    <tr>\n",
       "      <th>3</th>\n",
       "      <td>1076863</td>\n",
       "      <td>1277178</td>\n",
       "      <td>10000</td>\n",
       "      <td>10000</td>\n",
       "      <td>10000.0</td>\n",
       "      <td>36 months</td>\n",
       "      <td>13.49%</td>\n",
       "      <td>339.31</td>\n",
       "      <td>C</td>\n",
       "      <td>C1</td>\n",
       "      <td>...</td>\n",
       "      <td>0.00</td>\n",
       "      <td>0.00</td>\n",
       "      <td>Jan-15</td>\n",
       "      <td>357.48</td>\n",
       "      <td>Apr-16</td>\n",
       "      <td>1</td>\n",
       "      <td>INDIVIDUAL</td>\n",
       "      <td>0</td>\n",
       "      <td>0</td>\n",
       "      <td>0.0</td>\n",
       "    </tr>\n",
       "    <tr>\n",
       "      <th>4</th>\n",
       "      <td>1075358</td>\n",
       "      <td>1311748</td>\n",
       "      <td>3000</td>\n",
       "      <td>3000</td>\n",
       "      <td>3000.0</td>\n",
       "      <td>60 months</td>\n",
       "      <td>12.69%</td>\n",
       "      <td>67.79</td>\n",
       "      <td>B</td>\n",
       "      <td>B5</td>\n",
       "      <td>...</td>\n",
       "      <td>0.00</td>\n",
       "      <td>0.00</td>\n",
       "      <td>May-16</td>\n",
       "      <td>67.79</td>\n",
       "      <td>May-16</td>\n",
       "      <td>1</td>\n",
       "      <td>INDIVIDUAL</td>\n",
       "      <td>0</td>\n",
       "      <td>0</td>\n",
       "      <td>0.0</td>\n",
       "    </tr>\n",
       "    <tr>\n",
       "      <th>5</th>\n",
       "      <td>1075269</td>\n",
       "      <td>1311441</td>\n",
       "      <td>5000</td>\n",
       "      <td>5000</td>\n",
       "      <td>5000.0</td>\n",
       "      <td>36 months</td>\n",
       "      <td>7.90%</td>\n",
       "      <td>156.46</td>\n",
       "      <td>A</td>\n",
       "      <td>A4</td>\n",
       "      <td>...</td>\n",
       "      <td>0.00</td>\n",
       "      <td>0.00</td>\n",
       "      <td>Jan-15</td>\n",
       "      <td>161.03</td>\n",
       "      <td>Jan-16</td>\n",
       "      <td>1</td>\n",
       "      <td>INDIVIDUAL</td>\n",
       "      <td>0</td>\n",
       "      <td>0</td>\n",
       "      <td>0.0</td>\n",
       "    </tr>\n",
       "    <tr>\n",
       "      <th>6</th>\n",
       "      <td>1069639</td>\n",
       "      <td>1304742</td>\n",
       "      <td>7000</td>\n",
       "      <td>7000</td>\n",
       "      <td>7000.0</td>\n",
       "      <td>60 months</td>\n",
       "      <td>15.96%</td>\n",
       "      <td>170.08</td>\n",
       "      <td>C</td>\n",
       "      <td>C5</td>\n",
       "      <td>...</td>\n",
       "      <td>0.00</td>\n",
       "      <td>0.00</td>\n",
       "      <td>May-16</td>\n",
       "      <td>1313.76</td>\n",
       "      <td>May-16</td>\n",
       "      <td>1</td>\n",
       "      <td>INDIVIDUAL</td>\n",
       "      <td>0</td>\n",
       "      <td>0</td>\n",
       "      <td>0.0</td>\n",
       "    </tr>\n",
       "    <tr>\n",
       "      <th>...</th>\n",
       "      <td>...</td>\n",
       "      <td>...</td>\n",
       "      <td>...</td>\n",
       "      <td>...</td>\n",
       "      <td>...</td>\n",
       "      <td>...</td>\n",
       "      <td>...</td>\n",
       "      <td>...</td>\n",
       "      <td>...</td>\n",
       "      <td>...</td>\n",
       "      <td>...</td>\n",
       "      <td>...</td>\n",
       "      <td>...</td>\n",
       "      <td>...</td>\n",
       "      <td>...</td>\n",
       "      <td>...</td>\n",
       "      <td>...</td>\n",
       "      <td>...</td>\n",
       "      <td>...</td>\n",
       "      <td>...</td>\n",
       "      <td>...</td>\n",
       "    </tr>\n",
       "    <tr>\n",
       "      <th>39551</th>\n",
       "      <td>158706</td>\n",
       "      <td>158450</td>\n",
       "      <td>12375</td>\n",
       "      <td>12375</td>\n",
       "      <td>1000.0</td>\n",
       "      <td>36 months</td>\n",
       "      <td>10.91%</td>\n",
       "      <td>404.62</td>\n",
       "      <td>C</td>\n",
       "      <td>C3</td>\n",
       "      <td>...</td>\n",
       "      <td>0.00</td>\n",
       "      <td>0.00</td>\n",
       "      <td>Feb-10</td>\n",
       "      <td>4259.11</td>\n",
       "      <td>May-14</td>\n",
       "      <td>1</td>\n",
       "      <td>INDIVIDUAL</td>\n",
       "      <td>0</td>\n",
       "      <td>0</td>\n",
       "      <td>1.0</td>\n",
       "    </tr>\n",
       "    <tr>\n",
       "      <th>39562</th>\n",
       "      <td>154154</td>\n",
       "      <td>151536</td>\n",
       "      <td>4800</td>\n",
       "      <td>4800</td>\n",
       "      <td>1100.0</td>\n",
       "      <td>36 months</td>\n",
       "      <td>10.28%</td>\n",
       "      <td>155.52</td>\n",
       "      <td>C</td>\n",
       "      <td>C1</td>\n",
       "      <td>...</td>\n",
       "      <td>0.00</td>\n",
       "      <td>0.00</td>\n",
       "      <td>Aug-08</td>\n",
       "      <td>3891.08</td>\n",
       "      <td>Aug-08</td>\n",
       "      <td>1</td>\n",
       "      <td>INDIVIDUAL</td>\n",
       "      <td>0</td>\n",
       "      <td>0</td>\n",
       "      <td>1.0</td>\n",
       "    </tr>\n",
       "    <tr>\n",
       "      <th>39623</th>\n",
       "      <td>132892</td>\n",
       "      <td>132889</td>\n",
       "      <td>9000</td>\n",
       "      <td>9000</td>\n",
       "      <td>700.0</td>\n",
       "      <td>36 months</td>\n",
       "      <td>12.49%</td>\n",
       "      <td>301.04</td>\n",
       "      <td>D</td>\n",
       "      <td>D3</td>\n",
       "      <td>...</td>\n",
       "      <td>1909.87</td>\n",
       "      <td>668.36</td>\n",
       "      <td>May-08</td>\n",
       "      <td>301.05</td>\n",
       "      <td>May-16</td>\n",
       "      <td>1</td>\n",
       "      <td>INDIVIDUAL</td>\n",
       "      <td>0</td>\n",
       "      <td>0</td>\n",
       "      <td>1.0</td>\n",
       "    </tr>\n",
       "    <tr>\n",
       "      <th>39666</th>\n",
       "      <td>119043</td>\n",
       "      <td>119040</td>\n",
       "      <td>15450</td>\n",
       "      <td>15450</td>\n",
       "      <td>600.0</td>\n",
       "      <td>36 months</td>\n",
       "      <td>11.22%</td>\n",
       "      <td>507.46</td>\n",
       "      <td>C</td>\n",
       "      <td>C4</td>\n",
       "      <td>...</td>\n",
       "      <td>304.20</td>\n",
       "      <td>3.09</td>\n",
       "      <td>Oct-09</td>\n",
       "      <td>1016.15</td>\n",
       "      <td>Mar-10</td>\n",
       "      <td>1</td>\n",
       "      <td>INDIVIDUAL</td>\n",
       "      <td>0</td>\n",
       "      <td>0</td>\n",
       "      <td>1.0</td>\n",
       "    </tr>\n",
       "    <tr>\n",
       "      <th>39680</th>\n",
       "      <td>112496</td>\n",
       "      <td>112493</td>\n",
       "      <td>3000</td>\n",
       "      <td>3000</td>\n",
       "      <td>525.0</td>\n",
       "      <td>36 months</td>\n",
       "      <td>11.86%</td>\n",
       "      <td>99.44</td>\n",
       "      <td>D</td>\n",
       "      <td>D1</td>\n",
       "      <td>...</td>\n",
       "      <td>0.00</td>\n",
       "      <td>0.00</td>\n",
       "      <td>Aug-10</td>\n",
       "      <td>101.51</td>\n",
       "      <td>Jul-10</td>\n",
       "      <td>1</td>\n",
       "      <td>INDIVIDUAL</td>\n",
       "      <td>0</td>\n",
       "      <td>0</td>\n",
       "      <td>1.0</td>\n",
       "    </tr>\n",
       "  </tbody>\n",
       "</table>\n",
       "<p>36433 rows × 50 columns</p>\n",
       "</div>"
      ],
      "text/plain": [
       "            id  member_id  loan_amnt  funded_amnt  funded_amnt_inv  \\\n",
       "1      1077430    1314167       2500         2500           2500.0   \n",
       "3      1076863    1277178      10000        10000          10000.0   \n",
       "4      1075358    1311748       3000         3000           3000.0   \n",
       "5      1075269    1311441       5000         5000           5000.0   \n",
       "6      1069639    1304742       7000         7000           7000.0   \n",
       "...        ...        ...        ...          ...              ...   \n",
       "39551   158706     158450      12375        12375           1000.0   \n",
       "39562   154154     151536       4800         4800           1100.0   \n",
       "39623   132892     132889       9000         9000            700.0   \n",
       "39666   119043     119040      15450        15450            600.0   \n",
       "39680   112496     112493       3000         3000            525.0   \n",
       "\n",
       "             term int_rate  installment grade sub_grade  ... recoveries  \\\n",
       "1       60 months   15.27%        59.83     C        C4  ...     117.08   \n",
       "3       36 months   13.49%       339.31     C        C1  ...       0.00   \n",
       "4       60 months   12.69%        67.79     B        B5  ...       0.00   \n",
       "5       36 months    7.90%       156.46     A        A4  ...       0.00   \n",
       "6       60 months   15.96%       170.08     C        C5  ...       0.00   \n",
       "...           ...      ...          ...   ...       ...  ...        ...   \n",
       "39551   36 months   10.91%       404.62     C        C3  ...       0.00   \n",
       "39562   36 months   10.28%       155.52     C        C1  ...       0.00   \n",
       "39623   36 months   12.49%       301.04     D        D3  ...    1909.87   \n",
       "39666   36 months   11.22%       507.46     C        C4  ...     304.20   \n",
       "39680   36 months   11.86%        99.44     D        D1  ...       0.00   \n",
       "\n",
       "      collection_recovery_fee last_pymnt_d  last_pymnt_amnt  \\\n",
       "1                        1.11       Apr-13           119.66   \n",
       "3                        0.00       Jan-15           357.48   \n",
       "4                        0.00       May-16            67.79   \n",
       "5                        0.00       Jan-15           161.03   \n",
       "6                        0.00       May-16          1313.76   \n",
       "...                       ...          ...              ...   \n",
       "39551                    0.00       Feb-10          4259.11   \n",
       "39562                    0.00       Aug-08          3891.08   \n",
       "39623                  668.36       May-08           301.05   \n",
       "39666                    3.09       Oct-09          1016.15   \n",
       "39680                    0.00       Aug-10           101.51   \n",
       "\n",
       "      last_credit_pull_d policy_code application_type acc_now_delinq  \\\n",
       "1                 Sep-13           1       INDIVIDUAL              0   \n",
       "3                 Apr-16           1       INDIVIDUAL              0   \n",
       "4                 May-16           1       INDIVIDUAL              0   \n",
       "5                 Jan-16           1       INDIVIDUAL              0   \n",
       "6                 May-16           1       INDIVIDUAL              0   \n",
       "...                  ...         ...              ...            ...   \n",
       "39551             May-14           1       INDIVIDUAL              0   \n",
       "39562             Aug-08           1       INDIVIDUAL              0   \n",
       "39623             May-16           1       INDIVIDUAL              0   \n",
       "39666             Mar-10           1       INDIVIDUAL              0   \n",
       "39680             Jul-10           1       INDIVIDUAL              0   \n",
       "\n",
       "      delinq_amnt pub_rec_bankruptcies  \n",
       "1               0                  0.0  \n",
       "3               0                  0.0  \n",
       "4               0                  0.0  \n",
       "5               0                  0.0  \n",
       "6               0                  0.0  \n",
       "...           ...                  ...  \n",
       "39551           0                  1.0  \n",
       "39562           0                  1.0  \n",
       "39623           0                  1.0  \n",
       "39666           0                  1.0  \n",
       "39680           0                  1.0  \n",
       "\n",
       "[36433 rows x 50 columns]"
      ]
     },
     "execution_count": 26,
     "metadata": {},
     "output_type": "execute_result"
    }
   ],
   "source": [
    "loan"
   ]
  },
  {
   "cell_type": "markdown",
   "id": "831e6e7d",
   "metadata": {},
   "source": [
    "#### Dropping redundant columns"
   ]
  },
  {
   "cell_type": "code",
   "execution_count": 27,
   "id": "ea3f2cff",
   "metadata": {},
   "outputs": [
    {
     "data": {
      "text/plain": [
       "acc_now_delinq                 1\n",
       "application_type               1\n",
       "policy_code                    1\n",
       "initial_list_status            1\n",
       "delinq_amnt                    1\n",
       "pymnt_plan                     1\n",
       "term                           2\n",
       "pub_rec_bankruptcies           3\n",
       "loan_status                    3\n",
       "verification_status            3\n",
       "home_ownership                 4\n",
       "pub_rec                        5\n",
       "grade                          7\n",
       "inq_last_6mths                 9\n",
       "delinq_2yrs                   11\n",
       "emp_length                    11\n",
       "purpose                       14\n",
       "sub_grade                     35\n",
       "open_acc                      38\n",
       "addr_state                    49\n",
       "issue_d                       52\n",
       "total_acc                     79\n",
       "last_credit_pull_d            96\n",
       "last_pymnt_d                  97\n",
       "int_rate                     334\n",
       "earliest_cr_line             510\n",
       "zip_code                     806\n",
       "loan_amnt                    863\n",
       "funded_amnt                 1024\n",
       "out_prncp                   1064\n",
       "out_prncp_inv               1065\n",
       "revol_util                  1082\n",
       "total_rec_late_fee          1194\n",
       "collection_recovery_fee     2386\n",
       "dti                         2857\n",
       "recoveries                  3585\n",
       "annual_inc                  4924\n",
       "total_rec_prncp             7254\n",
       "funded_amnt_inv             7474\n",
       "installment                14367\n",
       "title                      17954\n",
       "revol_bal                  20790\n",
       "emp_title                  28207\n",
       "last_pymnt_amnt            32467\n",
       "total_rec_int              32523\n",
       "total_pymnt_inv            34524\n",
       "total_pymnt                34802\n",
       "url                        36433\n",
       "member_id                  36433\n",
       "id                         36433\n",
       "dtype: int64"
      ]
     },
     "execution_count": 27,
     "metadata": {},
     "output_type": "execute_result"
    }
   ],
   "source": [
    "loan.nunique().sort_values()"
   ]
  },
  {
   "cell_type": "markdown",
   "id": "e0aa81d3",
   "metadata": {},
   "source": [
    "Columns like acc_now_delinq, application_type, policy_code, initial_list_status, delinq_amnt, pymnt_plan have only single unique value which is not conributing to this analysis.\n",
    "Columns like url, member_id, id have all unique values, which is also not contributing to this analysis.\n",
    "Also, zip_code is not required."
   ]
  },
  {
   "cell_type": "code",
   "execution_count": 28,
   "id": "84d95b9f",
   "metadata": {},
   "outputs": [],
   "source": [
    "columns_tobe_dropped = ['id','member_id','pymnt_plan','url','zip_code','initial_list_status','policy_code','application_type','acc_now_delinq','delinq_amnt',]\n",
    "loan.drop(columns_tobe_dropped,axis=1,inplace=True)"
   ]
  },
  {
   "cell_type": "code",
   "execution_count": 29,
   "id": "ee5bf5c9",
   "metadata": {},
   "outputs": [
    {
     "data": {
      "text/plain": [
       "(36433, 40)"
      ]
     },
     "execution_count": 29,
     "metadata": {},
     "output_type": "execute_result"
    }
   ],
   "source": [
    "loan.shape"
   ]
  },
  {
   "cell_type": "code",
   "execution_count": 30,
   "id": "d916fd23",
   "metadata": {},
   "outputs": [
    {
     "name": "stdout",
     "output_type": "stream",
     "text": [
      "<class 'pandas.core.frame.DataFrame'>\n",
      "Int64Index: 36433 entries, 1 to 39680\n",
      "Data columns (total 40 columns):\n",
      " #   Column                   Non-Null Count  Dtype  \n",
      "---  ------                   --------------  -----  \n",
      " 0   loan_amnt                36433 non-null  int64  \n",
      " 1   funded_amnt              36433 non-null  int64  \n",
      " 2   funded_amnt_inv          36433 non-null  float64\n",
      " 3   term                     36433 non-null  object \n",
      " 4   int_rate                 36433 non-null  object \n",
      " 5   installment              36433 non-null  float64\n",
      " 6   grade                    36433 non-null  object \n",
      " 7   sub_grade                36433 non-null  object \n",
      " 8   emp_title                36433 non-null  object \n",
      " 9   emp_length               36433 non-null  object \n",
      " 10  home_ownership           36433 non-null  object \n",
      " 11  annual_inc               36433 non-null  float64\n",
      " 12  verification_status      36433 non-null  object \n",
      " 13  issue_d                  36433 non-null  object \n",
      " 14  loan_status              36433 non-null  object \n",
      " 15  purpose                  36433 non-null  object \n",
      " 16  title                    36433 non-null  object \n",
      " 17  addr_state               36433 non-null  object \n",
      " 18  dti                      36433 non-null  float64\n",
      " 19  delinq_2yrs              36433 non-null  int64  \n",
      " 20  earliest_cr_line         36433 non-null  object \n",
      " 21  inq_last_6mths           36433 non-null  int64  \n",
      " 22  open_acc                 36433 non-null  int64  \n",
      " 23  pub_rec                  36433 non-null  int64  \n",
      " 24  revol_bal                36433 non-null  int64  \n",
      " 25  revol_util               36433 non-null  object \n",
      " 26  total_acc                36433 non-null  int64  \n",
      " 27  out_prncp                36433 non-null  float64\n",
      " 28  out_prncp_inv            36433 non-null  float64\n",
      " 29  total_pymnt              36433 non-null  float64\n",
      " 30  total_pymnt_inv          36433 non-null  float64\n",
      " 31  total_rec_prncp          36433 non-null  float64\n",
      " 32  total_rec_int            36433 non-null  float64\n",
      " 33  total_rec_late_fee       36433 non-null  float64\n",
      " 34  recoveries               36433 non-null  float64\n",
      " 35  collection_recovery_fee  36433 non-null  float64\n",
      " 36  last_pymnt_d             36433 non-null  object \n",
      " 37  last_pymnt_amnt          36433 non-null  float64\n",
      " 38  last_credit_pull_d       36433 non-null  object \n",
      " 39  pub_rec_bankruptcies     36433 non-null  float64\n",
      "dtypes: float64(15), int64(8), object(17)\n",
      "memory usage: 11.4+ MB\n"
     ]
    }
   ],
   "source": [
    "loan.info()"
   ]
  },
  {
   "cell_type": "markdown",
   "id": "7c910a5d",
   "metadata": {},
   "source": [
    "#### Changing data type of date columns"
   ]
  },
  {
   "cell_type": "code",
   "execution_count": 31,
   "id": "5cca3249",
   "metadata": {},
   "outputs": [],
   "source": [
    "def IsNumber(s):\n",
    "    try: \n",
    "        int(s)\n",
    "        return True\n",
    "    except ValueError:\n",
    "        return False\n",
    "\n",
    "def ConvertToDatetime(date):\n",
    "    date_new=date.split(\"-\")\n",
    "    if(IsNumber(date_new[0])):\n",
    "        datetime_object=datetime.strptime(date,'%y-%b')\n",
    "    else:\n",
    "         datetime_object=datetime.strptime(date,'%b-%y')\n",
    "    return datetime_object"
   ]
  },
  {
   "cell_type": "code",
   "execution_count": 32,
   "id": "6b0a452a",
   "metadata": {},
   "outputs": [],
   "source": [
    "loan.earliest_cr_line= loan.earliest_cr_line.apply(lambda x: ConvertToDatetime(x))\n",
    "loan.issue_d= loan.issue_d.apply(lambda x: ConvertToDatetime(x))\n",
    "loan.last_pymnt_d= loan.last_pymnt_d.apply(lambda x: ConvertToDatetime(x))\n",
    "loan.last_credit_pull_d= loan.last_credit_pull_d.apply(lambda x: ConvertToDatetime(x))"
   ]
  },
  {
   "cell_type": "code",
   "execution_count": 33,
   "id": "bdc156d0",
   "metadata": {},
   "outputs": [
    {
     "name": "stdout",
     "output_type": "stream",
     "text": [
      "<class 'pandas.core.frame.DataFrame'>\n",
      "Int64Index: 36433 entries, 1 to 39680\n",
      "Data columns (total 40 columns):\n",
      " #   Column                   Non-Null Count  Dtype         \n",
      "---  ------                   --------------  -----         \n",
      " 0   loan_amnt                36433 non-null  int64         \n",
      " 1   funded_amnt              36433 non-null  int64         \n",
      " 2   funded_amnt_inv          36433 non-null  float64       \n",
      " 3   term                     36433 non-null  object        \n",
      " 4   int_rate                 36433 non-null  object        \n",
      " 5   installment              36433 non-null  float64       \n",
      " 6   grade                    36433 non-null  object        \n",
      " 7   sub_grade                36433 non-null  object        \n",
      " 8   emp_title                36433 non-null  object        \n",
      " 9   emp_length               36433 non-null  object        \n",
      " 10  home_ownership           36433 non-null  object        \n",
      " 11  annual_inc               36433 non-null  float64       \n",
      " 12  verification_status      36433 non-null  object        \n",
      " 13  issue_d                  36433 non-null  datetime64[ns]\n",
      " 14  loan_status              36433 non-null  object        \n",
      " 15  purpose                  36433 non-null  object        \n",
      " 16  title                    36433 non-null  object        \n",
      " 17  addr_state               36433 non-null  object        \n",
      " 18  dti                      36433 non-null  float64       \n",
      " 19  delinq_2yrs              36433 non-null  int64         \n",
      " 20  earliest_cr_line         36433 non-null  datetime64[ns]\n",
      " 21  inq_last_6mths           36433 non-null  int64         \n",
      " 22  open_acc                 36433 non-null  int64         \n",
      " 23  pub_rec                  36433 non-null  int64         \n",
      " 24  revol_bal                36433 non-null  int64         \n",
      " 25  revol_util               36433 non-null  object        \n",
      " 26  total_acc                36433 non-null  int64         \n",
      " 27  out_prncp                36433 non-null  float64       \n",
      " 28  out_prncp_inv            36433 non-null  float64       \n",
      " 29  total_pymnt              36433 non-null  float64       \n",
      " 30  total_pymnt_inv          36433 non-null  float64       \n",
      " 31  total_rec_prncp          36433 non-null  float64       \n",
      " 32  total_rec_int            36433 non-null  float64       \n",
      " 33  total_rec_late_fee       36433 non-null  float64       \n",
      " 34  recoveries               36433 non-null  float64       \n",
      " 35  collection_recovery_fee  36433 non-null  float64       \n",
      " 36  last_pymnt_d             36433 non-null  datetime64[ns]\n",
      " 37  last_pymnt_amnt          36433 non-null  float64       \n",
      " 38  last_credit_pull_d       36433 non-null  datetime64[ns]\n",
      " 39  pub_rec_bankruptcies     36433 non-null  float64       \n",
      "dtypes: datetime64[ns](4), float64(15), int64(8), object(13)\n",
      "memory usage: 11.4+ MB\n"
     ]
    }
   ],
   "source": [
    "loan.info()"
   ]
  },
  {
   "cell_type": "markdown",
   "id": "4a5f0377",
   "metadata": {},
   "source": [
    "#### Splitting all date columns in respective month and year columns"
   ]
  },
  {
   "cell_type": "code",
   "execution_count": 34,
   "id": "56bb4d0a",
   "metadata": {},
   "outputs": [],
   "source": [
    "loan['earliest_cr_line_month'] = loan['earliest_cr_line'].dt.month\n",
    "loan['earliest_cr_line_year'] = loan['earliest_cr_line'].dt.year"
   ]
  },
  {
   "cell_type": "code",
   "execution_count": 35,
   "id": "6cb24870",
   "metadata": {},
   "outputs": [],
   "source": [
    "loan['issue_d_month'] = loan['issue_d'].dt.month\n",
    "loan['issue_d_year'] = loan['issue_d'].dt.year"
   ]
  },
  {
   "cell_type": "code",
   "execution_count": 36,
   "id": "c5ceed76",
   "metadata": {},
   "outputs": [],
   "source": [
    "loan['last_pymnt_d_month'] = loan['last_pymnt_d'].dt.month\n",
    "loan['last_pymnt_d_year'] = loan['last_pymnt_d'].dt.year"
   ]
  },
  {
   "cell_type": "code",
   "execution_count": 37,
   "id": "2e278505",
   "metadata": {},
   "outputs": [],
   "source": [
    "loan['last_credit_pull_dmonth'] = loan['last_credit_pull_d'].dt.month\n",
    "loan['last_credit_pull_dyear'] = loan['last_credit_pull_d'].dt.year"
   ]
  },
  {
   "cell_type": "markdown",
   "id": "1622ed0a",
   "metadata": {},
   "source": [
    "#### Resolving y2k error"
   ]
  },
  {
   "cell_type": "code",
   "execution_count": 38,
   "id": "97044bdb",
   "metadata": {},
   "outputs": [
    {
     "data": {
      "text/plain": [
       "array([2068, 2067, 2065, 2063, 2066, 2062, 2056, 2046, 2050, 2064, 2054],\n",
       "      dtype=int64)"
      ]
     },
     "execution_count": 38,
     "metadata": {},
     "output_type": "execute_result"
    }
   ],
   "source": [
    "loan[loan['earliest_cr_line_year'] > 2021 ]['earliest_cr_line_year'].unique()"
   ]
  },
  {
   "cell_type": "code",
   "execution_count": 39,
   "id": "a55e95c9",
   "metadata": {},
   "outputs": [],
   "source": [
    "loan.loc[loan['earliest_cr_line_year'] > 2021 , 'earliest_cr_line_year'] = loan['earliest_cr_line_year'] - 100"
   ]
  },
  {
   "cell_type": "code",
   "execution_count": 40,
   "id": "92c12919",
   "metadata": {},
   "outputs": [
    {
     "data": {
      "text/plain": [
       "earliest_cr_line_year\n",
       "1946       1\n",
       "1950       1\n",
       "1954       1\n",
       "1956       1\n",
       "1962       3\n",
       "1963       4\n",
       "1964       2\n",
       "1965       6\n",
       "1966       7\n",
       "1967      12\n",
       "1968      12\n",
       "1969      22\n",
       "1970      35\n",
       "1971      34\n",
       "1972      33\n",
       "1973      41\n",
       "1974      51\n",
       "1975      57\n",
       "1976      73\n",
       "1977      90\n",
       "1978     130\n",
       "1979     141\n",
       "1980     150\n",
       "1981     154\n",
       "1982     196\n",
       "1983     296\n",
       "1984     360\n",
       "1985     406\n",
       "1986     447\n",
       "1987     565\n",
       "1988     671\n",
       "1989     781\n",
       "1990     944\n",
       "1991     884\n",
       "1992     970\n",
       "1993    1398\n",
       "1994    1860\n",
       "1995    1974\n",
       "1996    2074\n",
       "1997    2271\n",
       "1998    2645\n",
       "1999    2763\n",
       "2000    3034\n",
       "2001    2363\n",
       "2002    1794\n",
       "2003    1740\n",
       "2004    1639\n",
       "2005    1406\n",
       "2006    1079\n",
       "2007     668\n",
       "2008     144\n",
       "Name: loan_amnt, dtype: int64"
      ]
     },
     "execution_count": 40,
     "metadata": {},
     "output_type": "execute_result"
    }
   ],
   "source": [
    "loan.groupby('earliest_cr_line_year').loan_amnt.count()"
   ]
  },
  {
   "cell_type": "code",
   "execution_count": 41,
   "id": "6e07e0a5",
   "metadata": {},
   "outputs": [],
   "source": [
    "loan.drop(columns=['issue_d','earliest_cr_line','last_pymnt_d','last_credit_pull_d'],axis=1, inplace=True)"
   ]
  },
  {
   "cell_type": "markdown",
   "id": "8bcc7610",
   "metadata": {},
   "source": [
    "#### Removing '%' symbol from int_rate and revol_util column and converting the value to float"
   ]
  },
  {
   "cell_type": "code",
   "execution_count": 42,
   "id": "463ceca7",
   "metadata": {},
   "outputs": [],
   "source": [
    "loan['int_rate'] = loan['int_rate'].apply(lambda x: float(x.replace(\"%\",\"\")))\n",
    "loan['revol_util'] = loan['revol_util'].apply(lambda x: float(x.replace(\"%\",\"\")))"
   ]
  },
  {
   "cell_type": "code",
   "execution_count": 43,
   "id": "90a1e3e5",
   "metadata": {},
   "outputs": [
    {
     "name": "stdout",
     "output_type": "stream",
     "text": [
      "<class 'pandas.core.frame.DataFrame'>\n",
      "Int64Index: 36433 entries, 1 to 39680\n",
      "Data columns (total 2 columns):\n",
      " #   Column      Non-Null Count  Dtype  \n",
      "---  ------      --------------  -----  \n",
      " 0   int_rate    36433 non-null  float64\n",
      " 1   revol_util  36433 non-null  float64\n",
      "dtypes: float64(2)\n",
      "memory usage: 1.8 MB\n"
     ]
    }
   ],
   "source": [
    "loan[['int_rate', 'revol_util']].info()"
   ]
  },
  {
   "cell_type": "markdown",
   "id": "801755ac",
   "metadata": {},
   "source": [
    "#### Converting emp_length from range to years"
   ]
  },
  {
   "cell_type": "code",
   "execution_count": 44,
   "id": "ec58949c",
   "metadata": {},
   "outputs": [
    {
     "data": {
      "text/plain": [
       "10+ years    8407\n",
       "2 years      4178\n",
       "< 1 year     4052\n",
       "3 years      3914\n",
       "4 years      3297\n",
       "5 years      3129\n",
       "1 year       3026\n",
       "6 years      2121\n",
       "7 years      1697\n",
       "8 years      1405\n",
       "9 years      1207\n",
       "Name: emp_length, dtype: int64"
      ]
     },
     "execution_count": 44,
     "metadata": {},
     "output_type": "execute_result"
    }
   ],
   "source": [
    "loan.emp_length.value_counts()"
   ]
  },
  {
   "cell_type": "code",
   "execution_count": 45,
   "id": "28d546d4",
   "metadata": {},
   "outputs": [],
   "source": [
    "emp_length_dict = {\n",
    "    '< 1 year' : 0,\n",
    "    '1 year' : 1,\n",
    "    '2 years' : 2,\n",
    "    '3 years' : 3,\n",
    "    '4 years' : 4,\n",
    "    '5 years' : 5,\n",
    "    '6 years' : 6,\n",
    "    '7 years' : 7,\n",
    "    '8 years' : 8,\n",
    "    '9 years' : 9,\n",
    "    '10+ years' : 10\n",
    "}"
   ]
  },
  {
   "cell_type": "code",
   "execution_count": 46,
   "id": "68c6db2b",
   "metadata": {},
   "outputs": [],
   "source": [
    "loan = loan.replace({\"emp_length\": emp_length_dict })"
   ]
  },
  {
   "cell_type": "code",
   "execution_count": 47,
   "id": "832c6fd7",
   "metadata": {},
   "outputs": [
    {
     "data": {
      "text/plain": [
       "10    8407\n",
       "2     4178\n",
       "0     4052\n",
       "3     3914\n",
       "4     3297\n",
       "5     3129\n",
       "1     3026\n",
       "6     2121\n",
       "7     1697\n",
       "8     1405\n",
       "9     1207\n",
       "Name: emp_length, dtype: int64"
      ]
     },
     "execution_count": 47,
     "metadata": {},
     "output_type": "execute_result"
    }
   ],
   "source": [
    "loan.emp_length.value_counts()"
   ]
  },
  {
   "cell_type": "markdown",
   "id": "b37f5097",
   "metadata": {},
   "source": [
    "#### Removing 'months' from term column and converting the value to int"
   ]
  },
  {
   "cell_type": "code",
   "execution_count": 48,
   "id": "3c4bcb47",
   "metadata": {},
   "outputs": [
    {
     "data": {
      "text/plain": [
       " 36 months    26377\n",
       " 60 months    10056\n",
       "Name: term, dtype: int64"
      ]
     },
     "execution_count": 48,
     "metadata": {},
     "output_type": "execute_result"
    }
   ],
   "source": [
    "loan.term.value_counts()"
   ]
  },
  {
   "cell_type": "code",
   "execution_count": 49,
   "id": "919991db",
   "metadata": {},
   "outputs": [],
   "source": [
    "loan['term'] = loan.term.apply(lambda x: x.split()[0])"
   ]
  },
  {
   "cell_type": "code",
   "execution_count": 50,
   "id": "f6d18ca7",
   "metadata": {},
   "outputs": [
    {
     "data": {
      "text/plain": [
       "36    26377\n",
       "60    10056\n",
       "Name: term, dtype: int64"
      ]
     },
     "execution_count": 50,
     "metadata": {},
     "output_type": "execute_result"
    }
   ],
   "source": [
    "loan.term.value_counts()"
   ]
  },
  {
   "cell_type": "code",
   "execution_count": 51,
   "id": "fa662883",
   "metadata": {},
   "outputs": [
    {
     "data": {
      "text/html": [
       "<div>\n",
       "<style scoped>\n",
       "    .dataframe tbody tr th:only-of-type {\n",
       "        vertical-align: middle;\n",
       "    }\n",
       "\n",
       "    .dataframe tbody tr th {\n",
       "        vertical-align: top;\n",
       "    }\n",
       "\n",
       "    .dataframe thead th {\n",
       "        text-align: right;\n",
       "    }\n",
       "</style>\n",
       "<table border=\"1\" class=\"dataframe\">\n",
       "  <thead>\n",
       "    <tr style=\"text-align: right;\">\n",
       "      <th></th>\n",
       "      <th>loan_amnt</th>\n",
       "      <th>funded_amnt</th>\n",
       "      <th>funded_amnt_inv</th>\n",
       "      <th>term</th>\n",
       "      <th>int_rate</th>\n",
       "      <th>installment</th>\n",
       "      <th>grade</th>\n",
       "      <th>sub_grade</th>\n",
       "      <th>emp_title</th>\n",
       "      <th>emp_length</th>\n",
       "      <th>...</th>\n",
       "      <th>last_pymnt_amnt</th>\n",
       "      <th>pub_rec_bankruptcies</th>\n",
       "      <th>earliest_cr_line_month</th>\n",
       "      <th>earliest_cr_line_year</th>\n",
       "      <th>issue_d_month</th>\n",
       "      <th>issue_d_year</th>\n",
       "      <th>last_pymnt_d_month</th>\n",
       "      <th>last_pymnt_d_year</th>\n",
       "      <th>last_credit_pull_dmonth</th>\n",
       "      <th>last_credit_pull_dyear</th>\n",
       "    </tr>\n",
       "  </thead>\n",
       "  <tbody>\n",
       "    <tr>\n",
       "      <th>1</th>\n",
       "      <td>2500</td>\n",
       "      <td>2500</td>\n",
       "      <td>2500.0</td>\n",
       "      <td>60</td>\n",
       "      <td>15.27</td>\n",
       "      <td>59.83</td>\n",
       "      <td>C</td>\n",
       "      <td>C4</td>\n",
       "      <td>Ryder</td>\n",
       "      <td>0</td>\n",
       "      <td>...</td>\n",
       "      <td>119.66</td>\n",
       "      <td>0.0</td>\n",
       "      <td>4</td>\n",
       "      <td>1999</td>\n",
       "      <td>12</td>\n",
       "      <td>2011</td>\n",
       "      <td>4</td>\n",
       "      <td>2013</td>\n",
       "      <td>9</td>\n",
       "      <td>2013</td>\n",
       "    </tr>\n",
       "    <tr>\n",
       "      <th>3</th>\n",
       "      <td>10000</td>\n",
       "      <td>10000</td>\n",
       "      <td>10000.0</td>\n",
       "      <td>36</td>\n",
       "      <td>13.49</td>\n",
       "      <td>339.31</td>\n",
       "      <td>C</td>\n",
       "      <td>C1</td>\n",
       "      <td>AIR RESOURCES BOARD</td>\n",
       "      <td>10</td>\n",
       "      <td>...</td>\n",
       "      <td>357.48</td>\n",
       "      <td>0.0</td>\n",
       "      <td>2</td>\n",
       "      <td>1996</td>\n",
       "      <td>12</td>\n",
       "      <td>2011</td>\n",
       "      <td>1</td>\n",
       "      <td>2015</td>\n",
       "      <td>4</td>\n",
       "      <td>2016</td>\n",
       "    </tr>\n",
       "    <tr>\n",
       "      <th>4</th>\n",
       "      <td>3000</td>\n",
       "      <td>3000</td>\n",
       "      <td>3000.0</td>\n",
       "      <td>60</td>\n",
       "      <td>12.69</td>\n",
       "      <td>67.79</td>\n",
       "      <td>B</td>\n",
       "      <td>B5</td>\n",
       "      <td>University Medical Group</td>\n",
       "      <td>1</td>\n",
       "      <td>...</td>\n",
       "      <td>67.79</td>\n",
       "      <td>0.0</td>\n",
       "      <td>1</td>\n",
       "      <td>1996</td>\n",
       "      <td>12</td>\n",
       "      <td>2011</td>\n",
       "      <td>5</td>\n",
       "      <td>2016</td>\n",
       "      <td>5</td>\n",
       "      <td>2016</td>\n",
       "    </tr>\n",
       "    <tr>\n",
       "      <th>5</th>\n",
       "      <td>5000</td>\n",
       "      <td>5000</td>\n",
       "      <td>5000.0</td>\n",
       "      <td>36</td>\n",
       "      <td>7.90</td>\n",
       "      <td>156.46</td>\n",
       "      <td>A</td>\n",
       "      <td>A4</td>\n",
       "      <td>Veolia Transportaton</td>\n",
       "      <td>3</td>\n",
       "      <td>...</td>\n",
       "      <td>161.03</td>\n",
       "      <td>0.0</td>\n",
       "      <td>11</td>\n",
       "      <td>2004</td>\n",
       "      <td>12</td>\n",
       "      <td>2011</td>\n",
       "      <td>1</td>\n",
       "      <td>2015</td>\n",
       "      <td>1</td>\n",
       "      <td>2016</td>\n",
       "    </tr>\n",
       "    <tr>\n",
       "      <th>6</th>\n",
       "      <td>7000</td>\n",
       "      <td>7000</td>\n",
       "      <td>7000.0</td>\n",
       "      <td>60</td>\n",
       "      <td>15.96</td>\n",
       "      <td>170.08</td>\n",
       "      <td>C</td>\n",
       "      <td>C5</td>\n",
       "      <td>Southern Star Photography</td>\n",
       "      <td>8</td>\n",
       "      <td>...</td>\n",
       "      <td>1313.76</td>\n",
       "      <td>0.0</td>\n",
       "      <td>7</td>\n",
       "      <td>2005</td>\n",
       "      <td>12</td>\n",
       "      <td>2011</td>\n",
       "      <td>5</td>\n",
       "      <td>2016</td>\n",
       "      <td>5</td>\n",
       "      <td>2016</td>\n",
       "    </tr>\n",
       "  </tbody>\n",
       "</table>\n",
       "<p>5 rows × 44 columns</p>\n",
       "</div>"
      ],
      "text/plain": [
       "   loan_amnt  funded_amnt  funded_amnt_inv term  int_rate  installment grade  \\\n",
       "1       2500         2500           2500.0   60     15.27        59.83     C   \n",
       "3      10000        10000          10000.0   36     13.49       339.31     C   \n",
       "4       3000         3000           3000.0   60     12.69        67.79     B   \n",
       "5       5000         5000           5000.0   36      7.90       156.46     A   \n",
       "6       7000         7000           7000.0   60     15.96       170.08     C   \n",
       "\n",
       "  sub_grade                  emp_title  emp_length  ... last_pymnt_amnt  \\\n",
       "1        C4                      Ryder           0  ...          119.66   \n",
       "3        C1        AIR RESOURCES BOARD          10  ...          357.48   \n",
       "4        B5   University Medical Group           1  ...           67.79   \n",
       "5        A4       Veolia Transportaton           3  ...          161.03   \n",
       "6        C5  Southern Star Photography           8  ...         1313.76   \n",
       "\n",
       "   pub_rec_bankruptcies earliest_cr_line_month earliest_cr_line_year  \\\n",
       "1                   0.0                      4                  1999   \n",
       "3                   0.0                      2                  1996   \n",
       "4                   0.0                      1                  1996   \n",
       "5                   0.0                     11                  2004   \n",
       "6                   0.0                      7                  2005   \n",
       "\n",
       "  issue_d_month issue_d_year last_pymnt_d_month  last_pymnt_d_year  \\\n",
       "1            12         2011                  4               2013   \n",
       "3            12         2011                  1               2015   \n",
       "4            12         2011                  5               2016   \n",
       "5            12         2011                  1               2015   \n",
       "6            12         2011                  5               2016   \n",
       "\n",
       "   last_credit_pull_dmonth  last_credit_pull_dyear  \n",
       "1                        9                    2013  \n",
       "3                        4                    2016  \n",
       "4                        5                    2016  \n",
       "5                        1                    2016  \n",
       "6                        5                    2016  \n",
       "\n",
       "[5 rows x 44 columns]"
      ]
     },
     "execution_count": 51,
     "metadata": {},
     "output_type": "execute_result"
    }
   ],
   "source": [
    "loan.head()"
   ]
  },
  {
   "cell_type": "markdown",
   "id": "e3c536ea",
   "metadata": {},
   "source": [
    "#### Removing records with loan_status as 'Current'"
   ]
  },
  {
   "cell_type": "code",
   "execution_count": 52,
   "id": "e7fa2cab",
   "metadata": {},
   "outputs": [
    {
     "data": {
      "text/plain": [
       "Fully Paid     30424\n",
       "Charged Off     4943\n",
       "Current         1066\n",
       "Name: loan_status, dtype: int64"
      ]
     },
     "execution_count": 52,
     "metadata": {},
     "output_type": "execute_result"
    }
   ],
   "source": [
    "loan.loan_status.value_counts()"
   ]
  },
  {
   "cell_type": "code",
   "execution_count": 53,
   "id": "18f646b8",
   "metadata": {},
   "outputs": [],
   "source": [
    "loan = loan[loan['loan_status'].isin(['Fully Paid','Charged Off'])]"
   ]
  },
  {
   "cell_type": "markdown",
   "id": "c651a793",
   "metadata": {},
   "source": [
    "# Part 3"
   ]
  },
  {
   "cell_type": "markdown",
   "id": "a7878207",
   "metadata": {},
   "source": [
    "### Univariate Analysis"
   ]
  },
  {
   "cell_type": "markdown",
   "id": "1938db54",
   "metadata": {},
   "source": [
    "#### Box plot for loan_amnt column"
   ]
  },
  {
   "cell_type": "code",
   "execution_count": 54,
   "id": "71e220f2",
   "metadata": {},
   "outputs": [
    {
     "data": {
      "image/png": "[encoded data removed]",
      "text/plain": [
       "<Figure size 432x288 with 1 Axes>"
      ]
     },
     "metadata": {
      "needs_background": "light"
     },
     "output_type": "display_data"
    }
   ],
   "source": [
    "sns.boxplot( y=loan[\"loan_amnt\"] )\n",
    "plt.ylabel('Loan Amount')\n",
    "plt.show()"
   ]
  },
  {
   "cell_type": "markdown",
   "id": "7f8fbad9",
   "metadata": {},
   "source": [
    "<b>Observation:</b> The loan amount varies from 0 to 35,000 having mean of 10,000"
   ]
  },
  {
   "cell_type": "markdown",
   "id": "2eb78659",
   "metadata": {},
   "source": [
    "#### Count plot of loan_status column"
   ]
  },
  {
   "cell_type": "code",
   "execution_count": 55,
   "id": "e8084a27",
   "metadata": {},
   "outputs": [
    {
     "data": {
      "image/png": "[encoded data removed]",
      "text/plain": [
       "<Figure size 432x288 with 1 Axes>"
      ]
     },
     "metadata": {
      "needs_background": "light"
     },
     "output_type": "display_data"
    }
   ],
   "source": [
    "ax = sns.countplot(loan[\"loan_status\"])\n",
    "for p in ax.patches:\n",
    "    ax.annotate('{:.1f}%'.format((p.get_height()/len(loan[\"loan_status\"]))*100),(p.get_x()+0.25, p.get_height()+0.5))"
   ]
  },
  {
   "cell_type": "markdown",
   "id": "7304a2e9",
   "metadata": {},
   "source": [
    "<b>Observation:</b> Most of the loans are Fully Paid. Only 14% of loan are having status as defaulters. This shows that there is class imbalance."
   ]
  },
  {
   "cell_type": "markdown",
   "id": "a22d2f44",
   "metadata": {},
   "source": [
    "#### Count plot of emp_length column"
   ]
  },
  {
   "cell_type": "code",
   "execution_count": 56,
   "id": "4f3083ba",
   "metadata": {},
   "outputs": [
    {
     "data": {
      "image/png": "[encoded data removed]",
      "text/plain": [
       "<Figure size 432x288 with 1 Axes>"
      ]
     },
     "metadata": {
      "needs_background": "light"
     },
     "output_type": "display_data"
    }
   ],
   "source": [
    "ax = sns.countplot(x='emp_length', data=loan)\n",
    "plt.xlabel('Employee Working Experience')\n",
    "for p in ax.patches:\n",
    "    ax.annotate('{:.1f}%'.format((p.get_height()/len(loan['emp_length']))*100),(p.get_x()+0.05, p.get_height()+0.5))"
   ]
  },
  {
   "cell_type": "markdown",
   "id": "f9007f45",
   "metadata": {},
   "source": [
    "<b>Observation:</b> 22.7% of the employees applying for the loan have more than 10 years of experience"
   ]
  },
  {
   "cell_type": "markdown",
   "id": "35b58a6e",
   "metadata": {},
   "source": [
    "#### Distribution plot of loan_amnt column"
   ]
  },
  {
   "cell_type": "code",
   "execution_count": 57,
   "id": "ab8b6b74",
   "metadata": {},
   "outputs": [
    {
     "data": {
      "image/png": "[encoded data removed]",
      "text/plain": [
       "<Figure size 432x288 with 1 Axes>"
      ]
     },
     "metadata": {
      "needs_background": "light"
     },
     "output_type": "display_data"
    }
   ],
   "source": [
    "sns.distplot(loan['loan_amnt'])\n",
    "plt.show()"
   ]
  },
  {
   "cell_type": "markdown",
   "id": "f4376bff",
   "metadata": {},
   "source": [
    "<b>Observation:</b> Loan amount distribution is slightly right-skewed with mean greater than the median. Most of the loans granted are below 15000.A spike is observed around 5000."
   ]
  },
  {
   "cell_type": "markdown",
   "id": "c25f805a",
   "metadata": {},
   "source": [
    "#### Distribution plot of annual_inc column"
   ]
  },
  {
   "cell_type": "code",
   "execution_count": 58,
   "id": "f0ee96cb",
   "metadata": {},
   "outputs": [
    {
     "data": {
      "image/png": "[encoded data removed]",
      "text/plain": [
       "<Figure size 432x288 with 1 Axes>"
      ]
     },
     "metadata": {
      "needs_background": "light"
     },
     "output_type": "display_data"
    }
   ],
   "source": [
    "sns.distplot(loan[loan['annual_inc'] < 6000000]['annual_inc'], bins=5)\n",
    "plt.xlabel('Annual Income in Lakhs')\n",
    "plt.show()"
   ]
  },
  {
   "cell_type": "markdown",
   "id": "69e65173",
   "metadata": {},
   "source": [
    "<b>Observation:</b> Majority of loan applicants have income less than 5 lakhs"
   ]
  },
  {
   "cell_type": "markdown",
   "id": "07fe7045",
   "metadata": {},
   "source": [
    "### Segmented Univariate Analysis"
   ]
  },
  {
   "cell_type": "markdown",
   "id": "8b7f3e9b",
   "metadata": {},
   "source": [
    "#### Count plot of loan_term based on loan_status"
   ]
  },
  {
   "cell_type": "code",
   "execution_count": 59,
   "id": "b42ac639",
   "metadata": {},
   "outputs": [
    {
     "data": {
      "image/png": "[encoded data removed]",
      "text/plain": [
       "<Figure size 720x576 with 1 Axes>"
      ]
     },
     "metadata": {
      "needs_background": "light"
     },
     "output_type": "display_data"
    }
   ],
   "source": [
    "plt.figure(figsize=(10,8))\n",
    "ax=sns.countplot( x=\"term\", hue='loan_status',data=loan)\n",
    "plt.xlabel('Loan Term in Months')\n",
    "for p in ax.patches:\n",
    "    ax.annotate('{:.1f}%'.format((p.get_height()/len(loan['emp_length']))*100),(p.get_x()+0.1, p.get_height()+1))\n",
    "plt.show()"
   ]
  },
  {
   "cell_type": "markdown",
   "id": "5bda18ee",
   "metadata": {},
   "source": [
    "<b>Observation:</b> Term of 36 months have high chances to be fully charged, whereas defaulters for both terms are almost equal"
   ]
  },
  {
   "cell_type": "markdown",
   "id": "a764dd04",
   "metadata": {},
   "source": [
    "#### Count plot of verification_status based on loan_status"
   ]
  },
  {
   "cell_type": "code",
   "execution_count": null,
   "id": "892c3503",
   "metadata": {},
   "outputs": [],
   "source": [
    "plt.figure(figsize=(15,10))\n",
    "ax = sns.countplot(x='verification_status',hue='loan_status', data=loan)\n",
    "plt.xticks(rotation=90)\n",
    "for p in ax.patches:\n",
    "    ax.annotate('{:.1f}%'.format((p.get_height()/len(loan['emp_length']))*100),(p.get_x()+0.05, p.get_height()+0.5))\n",
    "plt.show()"
   ]
  },
  {
   "cell_type": "markdown",
   "id": "5f77e30c",
   "metadata": {},
   "source": [
    "<b>Observation:</b>There is not much difference in charged off proportion.\n",
    "This variable doesn't provide any insights for charged off."
   ]
  },
  {
   "cell_type": "markdown",
   "id": "0d8d96bc",
   "metadata": {},
   "source": [
    "#### Count plot of grade based on loan_status"
   ]
  },
  {
   "cell_type": "code",
   "execution_count": null,
   "id": "2132496d",
   "metadata": {},
   "outputs": [],
   "source": [
    "plt.figure(figsize=(15,10))\n",
    "ax = sns.countplot(x='grade',hue='loan_status', data=loan)\n",
    "plt.xticks(rotation=90)\n",
    "for p in ax.patches:\n",
    "    ax.annotate('{:.1f}%'.format((p.get_height()/len(loan['emp_length']))*100),(p.get_x()+0.05, p.get_height()+0.5))\n",
    "plt.show()"
   ]
  },
  {
   "cell_type": "markdown",
   "id": "8bd76933",
   "metadata": {},
   "source": [
    "<b>Observation:</b> Default rates are high for B, C and D that means medium graded loan have high risk of defaulties."
   ]
  },
  {
   "cell_type": "markdown",
   "id": "821b4bbc",
   "metadata": {},
   "source": [
    "#### Loan recovery status"
   ]
  },
  {
   "cell_type": "code",
   "execution_count": null,
   "id": "bbb3d66b",
   "metadata": {},
   "outputs": [],
   "source": [
    "loan.funded_amnt.describe()"
   ]
  },
  {
   "cell_type": "code",
   "execution_count": null,
   "id": "34ea0c95",
   "metadata": {},
   "outputs": [],
   "source": [
    "plt.figure(figsize=(5,7))\n",
    "ax = (loan.groupby('loan_status').total_pymnt.sum() * 100 / loan.groupby('loan_status').loan_amnt.sum()).plot.bar()\n",
    "for p in ax.patches:\n",
    "    ax.annotate('{:.1f}%'.format(p.get_height()),(p.get_x()+0.1, p.get_height()+1))\n",
    "ax.set_ylabel('% loan recovered', fontsize=16)\n",
    "plt.margins(0.2, 0.2)"
   ]
  },
  {
   "cell_type": "markdown",
   "id": "9fe25621",
   "metadata": {},
   "source": [
    "<b>Observation:</b> Lending Club only recovers 57% of the loan amount when loans are defaulted and on fully paid up loans, the company makes 17% profit."
   ]
  },
  {
   "cell_type": "markdown",
   "id": "12c505e7",
   "metadata": {},
   "source": [
    "### Bivariate analysis"
   ]
  },
  {
   "cell_type": "markdown",
   "id": "35f5b067",
   "metadata": {},
   "source": [
    "#### Number of loans granted over the years"
   ]
  },
  {
   "cell_type": "code",
   "execution_count": null,
   "id": "66038996",
   "metadata": {},
   "outputs": [],
   "source": [
    "plt.figure(figsize=(12,8))\n",
    "g = loan.groupby(['issue_d_year','issue_d_month'])['loan_status'].count()\n",
    "g.plot.bar()\n",
    "plt.xticks(rotation=90)\n",
    "plt.title('No of loan granted over the years')\n",
    "plt.xlabel('Loan Issue Year')\n",
    "plt.show()"
   ]
  },
  {
   "cell_type": "markdown",
   "id": "84fe01a2",
   "metadata": {},
   "source": [
    "<b>Observation:</b> Maximum applicants are observed in year 2011 and it is observed that loan applicants are exponentially increasing from 2007 to 2011."
   ]
  },
  {
   "cell_type": "markdown",
   "id": "25d35c9a",
   "metadata": {},
   "source": [
    "#### Defaulters according to purpose"
   ]
  },
  {
   "cell_type": "code",
   "execution_count": null,
   "id": "cf0c3c9a",
   "metadata": {},
   "outputs": [],
   "source": [
    "plt.figure(figsize=(15,10))\n",
    "loan_purpose = loan[loan['loan_status']=='Charged Off'].groupby('purpose')['loan_status'].count().reset_index()\n",
    "ax = sns.barplot(y='loan_status',x='purpose', data=loan_purpose)\n",
    "plt.xticks(rotation=90)\n",
    "plt.ylabel('Count of loan status to be defaulter')\n",
    "plt.xlabel('Purpose')\n",
    "plt.show()"
   ]
  },
  {
   "cell_type": "markdown",
   "id": "2a86b217",
   "metadata": {},
   "source": [
    "<b>Observation:</b> Majority of defaulters has been for the debt consolidation purpose."
   ]
  },
  {
   "cell_type": "markdown",
   "id": "541995a7",
   "metadata": {},
   "source": [
    "#### Defaulters according to home ownership"
   ]
  },
  {
   "cell_type": "code",
   "execution_count": null,
   "id": "f8d4f80a",
   "metadata": {},
   "outputs": [],
   "source": [
    "plt.figure(figsize=(15,10))\n",
    "loan_purpose = loan[loan['loan_status']=='Charged Off'].groupby('home_ownership')['loan_status'].count().reset_index()\n",
    "ax = sns.barplot(y='loan_status',x='home_ownership', data=loan_purpose)\n",
    "plt.xticks(rotation=90)\n",
    "plt.ylabel('Count of loan status to be defaulter')\n",
    "plt.xlabel('Home ownership')\n",
    "plt.xticks(rotation=90)\n",
    "for p in ax.patches:\n",
    "    ax.annotate('{:.1f}%'.format((p.get_height()/len(loan['emp_length']))*100),(p.get_x()+0.05, p.get_height()+0.5))\n",
    "plt.show()"
   ]
  },
  {
   "cell_type": "markdown",
   "id": "59551a30",
   "metadata": {},
   "source": [
    "<b>Observation:</b> People who stays in Rented house or Mortgaged their house are high risk of defauties"
   ]
  },
  {
   "cell_type": "markdown",
   "id": "428e6d39",
   "metadata": {},
   "source": [
    "#### Defaulters according to state"
   ]
  },
  {
   "cell_type": "code",
   "execution_count": null,
   "id": "bbc463cd",
   "metadata": {},
   "outputs": [],
   "source": [
    "g = loan[loan['loan_status']=='Charged Off'].groupby('addr_state')['loan_status'].count().reset_index()\n",
    "plt.figure(figsize=(10,10))\n",
    "sns.barplot(y='addr_state', x='loan_status', data=g)\n",
    "plt.xlabel('Count of loan status to be defaulter')\n",
    "plt.ylabel('State')\n",
    "plt.show()"
   ]
  },
  {
   "cell_type": "markdown",
   "id": "1849e9b1",
   "metadata": {},
   "source": [
    "<b>Observation:</b> Applicants from the state CA are having high probability to be default"
   ]
  },
  {
   "cell_type": "markdown",
   "id": "2cdd1d88",
   "metadata": {},
   "source": [
    "#### Public record of bankruptcies according to annual income"
   ]
  },
  {
   "cell_type": "code",
   "execution_count": null,
   "id": "c1def511",
   "metadata": {},
   "outputs": [],
   "source": [
    "sns.barplot(y='annual_inc', x='pub_rec_bankruptcies', data=loan)\n",
    "plt.xticks(rotation=90)\n",
    "plt.show()"
   ]
  },
  {
   "cell_type": "markdown",
   "id": "66ff32a9",
   "metadata": {},
   "source": [
    "<b>Observation:</b> Employees with low income have maximum bankruptcies"
   ]
  },
  {
   "cell_type": "markdown",
   "id": "a92f26a3",
   "metadata": {},
   "source": [
    "#### Defaulters based on loan amount granted"
   ]
  },
  {
   "cell_type": "code",
   "execution_count": null,
   "id": "ea8b9287",
   "metadata": {},
   "outputs": [],
   "source": [
    "sns.barplot(x='loan_status', y='loan_amnt', data=loan)\n",
    "plt.title('Loan Amount granted')\n",
    "plt.xlabel('Loan Status')\n",
    "plt.ylabel('Loan Amount Granted')\n",
    "plt.show()"
   ]
  },
  {
   "cell_type": "markdown",
   "id": "55c008e0",
   "metadata": {},
   "source": [
    "<b>Observation:</b> It is observed that defaulties are the one whose loan amount are greater than 12000"
   ]
  },
  {
   "cell_type": "markdown",
   "id": "16414a89",
   "metadata": {},
   "source": [
    "#### Annual income against Chargedoff_Proportion"
   ]
  },
  {
   "cell_type": "code",
   "execution_count": null,
   "id": "a320f6bd",
   "metadata": {},
   "outputs": [],
   "source": [
    "loan['annual_inc_cats'] = pd.cut(loan['annual_inc'], [0, 20000, 40000, 60000, 80000,1000000], labels=['0-20000', '20000-40000', '40000-60000', '60000-80000', '80000 +'])"
   ]
  },
  {
   "cell_type": "code",
   "execution_count": null,
   "id": "82bb528c",
   "metadata": {},
   "outputs": [],
   "source": [
    "inc_range_vs_loan = loan.groupby(['annual_inc_cats', 'loan_status']).loan_status.count().unstack().fillna(0).reset_index()\n",
    "inc_range_vs_loan['Total'] = inc_range_vs_loan['Charged Off'] + inc_range_vs_loan['Fully Paid'] \n",
    "inc_range_vs_loan['Chargedoff_Proportion'] = inc_range_vs_loan['Charged Off'] / inc_range_vs_loan['Total']\n",
    "inc_range_vs_loan.sort_values('Chargedoff_Proportion', ascending=False)"
   ]
  },
  {
   "cell_type": "code",
   "execution_count": null,
   "id": "5c5b33ac",
   "metadata": {
    "scrolled": true
   },
   "outputs": [],
   "source": [
    "plt.figure(figsize=(12, 8))\n",
    "sns.barplot(x='annual_inc_cats', y='Chargedoff_Proportion', data=inc_range_vs_loan)\n",
    "plt.ylabel('Chargedoff Proportion')\n",
    "plt.xlabel('Annual Income')\n",
    "plt.show()"
   ]
  },
  {
   "cell_type": "markdown",
   "id": "f40d2932",
   "metadata": {},
   "source": [
    "<b>Observation:</b> Income range 80000+  has less chances of charged off. Income range 0-20000 has high chances of charged off.\n",
    "Notice that with increase in annual income charged off proportion got decreased. "
   ]
  },
  {
   "cell_type": "markdown",
   "id": "21939da1",
   "metadata": {},
   "source": [
    "#### Interest rate against Chargedoff_Proportion"
   ]
  },
  {
   "cell_type": "code",
   "execution_count": null,
   "id": "f8ed28a7",
   "metadata": {},
   "outputs": [],
   "source": [
    "loan['int_rate_cats'] = pd.cut(loan['int_rate'], [0, 10, 12.5, 16, 20], labels=['0-10', '10-13', '12.5-16', '16 +'])"
   ]
  },
  {
   "cell_type": "code",
   "execution_count": null,
   "id": "93ced4d7",
   "metadata": {},
   "outputs": [],
   "source": [
    "interest_vs_loan = loan.groupby(['int_rate_cats', 'loan_status']).loan_status.count().unstack().fillna(0).reset_index()\n",
    "interest_vs_loan['Total'] = interest_vs_loan['Charged Off'] + interest_vs_loan['Fully Paid'] \n",
    "interest_vs_loan['Chargedoff_Proportion'] = interest_vs_loan['Charged Off'] / interest_vs_loan['Total']\n",
    "interest_vs_loan.sort_values('Chargedoff_Proportion', ascending=False)"
   ]
  },
  {
   "cell_type": "markdown",
   "id": "e77481ca",
   "metadata": {},
   "source": [
    "<b>Observation:</b> Interest rate less than 10% has very less chances of charged off. Intrest rates are starting from minimin 5 %. Interest rate more than 16% has good chnaces of charged off as compared to other category intrest rates. Charged off proportion is increasing with higher intrest rates."
   ]
  },
  {
   "cell_type": "code",
   "execution_count": null,
   "id": "9ccb1e8a",
   "metadata": {},
   "outputs": [],
   "source": [
    "plt.subplots(figsize=(12, 8))\n",
    "sns.barplot(x='int_rate_cats', y='Chargedoff_Proportion', data=interest_vs_loan)\n",
    "plt.xlabel('Interest Rate')\n",
    "plt.ylabel('Chargedoff Proportion')\n",
    "plt.show()"
   ]
  },
  {
   "cell_type": "markdown",
   "id": "e031e49e",
   "metadata": {},
   "source": [
    "<b>Observation:</b> Interest rate less than 10% has very less chances of charged off. Interest rates are starting from minimun 5 %. Interest rate more than 16% has good chnaces of charged off as compared to other category interest rates. Charged off proportion is increasing with higher interest rates."
   ]
  },
  {
   "cell_type": "markdown",
   "id": "acf1a32e",
   "metadata": {},
   "source": [
    "#### Public records against Chargedoff_Proportion"
   ]
  },
  {
   "cell_type": "code",
   "execution_count": null,
   "id": "2cb98d05",
   "metadata": {},
   "outputs": [],
   "source": [
    "bankruptcies_vs_loan = loan.groupby(['pub_rec', 'loan_status']).loan_status.count().unstack().fillna(0).reset_index()\n",
    "bankruptcies_vs_loan['Total']=bankruptcies_vs_loan['Charged Off']+bankruptcies_vs_loan['Fully Paid'] \n",
    "bankruptcies_vs_loan['Chargedoff_Proportion'] = bankruptcies_vs_loan['Charged Off'] / bankruptcies_vs_loan['Total']\n",
    "bankruptcies_vs_loan.sort_values('Chargedoff_Proportion', ascending=False)"
   ]
  },
  {
   "cell_type": "code",
   "execution_count": null,
   "id": "0a24f47c",
   "metadata": {},
   "outputs": [],
   "source": [
    "plt.subplots(figsize=(12, 7))\n",
    "sns.barplot(x='pub_rec', y='Chargedoff_Proportion', data=bankruptcies_vs_loan)\n",
    "plt.xlabel('Derogatory Public Record')\n",
    "plt.ylabel('Chargedoff Proportion')\n",
    "plt.show()"
   ]
  },
  {
   "cell_type": "markdown",
   "id": "ffe3f18d",
   "metadata": {},
   "source": [
    "<b>Observation:</b> Those who already have public record value 1 or 2 have charged off chances higher than who have no Derogatory Public Record. Count 3-4 has less numbers so cannot reach on any conclusions."
   ]
  },
  {
   "cell_type": "code",
   "execution_count": null,
   "id": "306a9519",
   "metadata": {},
   "outputs": [],
   "source": []
  }
 ],
 "metadata": {
  "kernelspec": {
   "display_name": "Python 3 (ipykernel)",
   "language": "python",
   "name": "python3"
  },
  "language_info": {
   "codemirror_mode": {
    "name": "ipython",
    "version": 3
   },
   "file_extension": ".py",
   "mimetype": "text/x-python",
   "name": "python",
   "nbconvert_exporter": "python",
   "pygments_lexer": "ipython3",
   "version": "3.11.4"
  }
 },
 "nbformat": 4,
 "nbformat_minor": 5
}
